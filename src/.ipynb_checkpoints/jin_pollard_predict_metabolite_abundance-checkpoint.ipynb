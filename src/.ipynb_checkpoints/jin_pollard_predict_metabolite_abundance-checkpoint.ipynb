{
 "cells": [
  {
   "cell_type": "code",
   "execution_count": 2,
   "id": "9aff49fd",
   "metadata": {},
   "outputs": [],
   "source": [
    "%config Completer.use_jedi = False"
   ]
  },
  {
   "cell_type": "code",
   "execution_count": 3,
   "id": "9f3db998",
   "metadata": {},
   "outputs": [],
   "source": [
    "import matplotlib.pyplot as plt\n",
    "import matplotlib as mpl\n",
    "import numpy as np\n",
    "import os\n",
    "import pandas as pd\n",
    "from scipy.optimize import nnls\n",
    "import scipy\n",
    "import seaborn as sns"
   ]
  },
  {
   "cell_type": "markdown",
   "id": "6246d67e",
   "metadata": {},
   "source": [
    "# Utility functions"
   ]
  },
  {
   "cell_type": "code",
   "execution_count": 4,
   "id": "faa0e659",
   "metadata": {},
   "outputs": [],
   "source": [
    "def create_abundance_header(num_bioRep=3, num_passages=6):\n",
    "    '''Create header for the datafram with species abundance'''\n",
    "    header_ = []\n",
    "    for pass_ in range(num_passages):\n",
    "        for rep_ in range(num_bioRep):\n",
    "            header_.append('p' + str(pass_ + 1) + \"_\" + 'r' + str(rep_))\n",
    "    return header_"
   ]
  },
  {
   "cell_type": "code",
   "execution_count": 5,
   "id": "4efe8afd",
   "metadata": {},
   "outputs": [],
   "source": [
    "def create_abundance_header_new(num_bioRep=3, num_passages=6):\n",
    "    '''Create header for the datafram with species abundance'''\n",
    "    header_ = []\n",
    "    for rep_ in range(num_bioRep):\n",
    "        for pass_ in range(num_passages):\n",
    "            header_.append('p' + str(pass_ + 1) + \"_\" + 'r' + str(rep_))\n",
    "    return header_"
   ]
  },
  {
   "cell_type": "code",
   "execution_count": 6,
   "id": "299fe2b2",
   "metadata": {},
   "outputs": [],
   "source": [
    "def expand_passage_by_rep(passage_='p1', num_bioRep=3):\n",
    "    '''Expand passage name to include replicate numbers as well'''\n",
    "    passage_rep = []\n",
    "    for rep_ in range(num_bioRep):\n",
    "        passage_rep.append(passage_ + \"_\" + \"r\" + str(rep_))\n",
    "        \n",
    "    return passage_rep"
   ]
  },
  {
   "cell_type": "code",
   "execution_count": 7,
   "id": "a2b8335f",
   "metadata": {},
   "outputs": [],
   "source": [
    "def corrfunc(x, y, ax=None, **kws):\n",
    "    \"\"\"Plot the correlation coefficient in the top left hand corner of a plot.\"\"\"\n",
    "    r, pval_ = scipy.stats.pearsonr(x, y)\n",
    "    ax = ax or plt.gca()\n",
    "    ax.annotate(f'rho = {r:.2f}, pval = {pval_:.3f}', xy=(.1, .9), xycoords=ax.transAxes)"
   ]
  },
  {
   "cell_type": "code",
   "execution_count": 8,
   "id": "070d9610",
   "metadata": {},
   "outputs": [],
   "source": [
    "def compute_cons_abun_prod(df_speciesMetab, df_speciesAbun):\n",
    "    '''Compute matrix product of species-metabolite consumption matrix and species abundance matrix'''\n",
    "    df_speciesAbun_T = df_speciesAbun.copy()\n",
    "    df_speciesAbun_T = df_speciesAbun_T.transpose()\n",
    "#     df_cons_abun_prod = df_speciesAbun_T.dot(df_speciesMetab)\n",
    "    df_cons_abun_prod = np.dot(np.array(df_speciesAbun_T.values), np.array(df_speciesMetab.values))\n",
    "    return df_cons_abun_prod"
   ]
  },
  {
   "cell_type": "code",
   "execution_count": 9,
   "id": "8b654854",
   "metadata": {},
   "outputs": [],
   "source": [
    "def compute_species_metab_matrix_for_nnls(df_cons_abun_prod, df_speciesMetab, num_passages=6, num_bioRep=3):\n",
    "    '''create one matrix of c_i^alpha / (sum_beta c_i^beta B_beta(k)) (species X metabolites) \n",
    "       for each passage and bioreplicate'''\n",
    "    sample_names = create_abundance_header()\n",
    "    mat_cons_abun_list = {}\n",
    "    tmp_ones = np.ones((num_species, 1))\n",
    "    for sample_ in sample_names:\n",
    "#         df_denom = df_cons_abun_prod.loc[sample_, :]\n",
    "        df_denom = df_cons_abun_prod[sample_names.index(sample_), :]\n",
    "        tmp_mat = np.array(df_denom).reshape((1, num_metabs))\n",
    "        mat_denom = np.matmul(tmp_ones, tmp_mat)\n",
    "        mat_cons_abun_list[sample_] = np.divide(np.array(df_speciesMetab.copy().values), mat_denom)\n",
    "        \n",
    "    return sample_names, mat_cons_abun_list"
   ]
  },
  {
   "cell_type": "code",
   "execution_count": 26,
   "id": "527fb74e",
   "metadata": {},
   "outputs": [],
   "source": [
    "def compute_species_metab_matrix_for_nnls_new(df_cons_abun_prod, df_speciesMetab, num_passages=6, num_bioRep=3):\n",
    "    '''create one matrix of c_i^alpha / (sum_beta c_i^beta B_beta(k)) (species X metabolites) \n",
    "       for each passage and bioreplicate'''\n",
    "    sample_names = create_abundance_header_new()\n",
    "    mat_cons_abun_list = {}\n",
    "    tmp_ones = np.ones((num_species, 1))\n",
    "    for sample_ in sample_names:\n",
    "#         df_denom = df_cons_abun_prod.loc[sample_, :]\n",
    "        df_denom = df_cons_abun_prod[sample_names.index(sample_), :]\n",
    "        tmp_mat = np.array(df_denom).reshape((1, num_metabs))\n",
    "        mat_denom = np.matmul(tmp_ones, tmp_mat)\n",
    "        mat_cons_abun_list[sample_] = np.divide(np.array(df_speciesMetab.copy().values), mat_denom)\n",
    "        \n",
    "    return sample_names, mat_cons_abun_list"
   ]
  },
  {
   "cell_type": "markdown",
   "id": "6e89d1c1",
   "metadata": {},
   "source": [
    "# Get data"
   ]
  },
  {
   "cell_type": "code",
   "execution_count": 11,
   "id": "e9021692",
   "metadata": {},
   "outputs": [],
   "source": [
    "# directory with all data\n",
    "data_dir = os.path.abspath(os.path.join(os.getcwd(), '..', 'data', 'jin_pollard'))"
   ]
  },
  {
   "cell_type": "code",
   "execution_count": 12,
   "id": "0f6771a8",
   "metadata": {},
   "outputs": [],
   "source": [
    "# species-metabolite consumption matrix, c_species^metabolite\n",
    "file_speciesMetab = os.path.join(data_dir, \n",
    "                                \"species_metabolite_consumption_matrix.csv\")\n",
    "df_speciesMetab = pd.read_csv(file_speciesMetab, sep=\",\", header=None)\n",
    "num_species, num_metabs = df_speciesMetab.shape"
   ]
  },
  {
   "cell_type": "code",
   "execution_count": 16,
   "id": "551af40f",
   "metadata": {},
   "outputs": [],
   "source": [
    "# species abundances for all passages and bioreplicates\n",
    "num_passages = 6\n",
    "num_bioRep = 3\n",
    "file_speciesAbun = os.path.join(data_dir, \n",
    "                                \"species_abundances.csv\")\n",
    "df_speciesAbun = pd.read_csv(file_speciesAbun, sep=\",\", header=None)\n",
    "df_speciesAbun.columns = create_abundance_header_new(num_bioRep=num_bioRep, num_passages=num_passages)\n",
    "df_speciesAbun_raw = df_speciesAbun.copy()\n",
    "thresh_zero = 1e-8\n",
    "df_speciesAbun[df_speciesAbun == 0] = 1e-8\n",
    "df_speciesAbun_T = df_speciesAbun.copy()\n",
    "df_speciesAbun_T = df_speciesAbun_T.transpose()"
   ]
  },
  {
   "cell_type": "code",
   "execution_count": 17,
   "id": "5a30859c",
   "metadata": {},
   "outputs": [],
   "source": [
    "# consumption, abundance product. Sum of species-metabolite consumption matrix, c_species^metabolite, for each \n",
    "# metabolite for each passage (and replicate) across all the species\n",
    "# df_cons_abun_prod = df_speciesAbun_T.dot(df_speciesMetab)\n",
    "df_cons_abun_prod = compute_cons_abun_prod(df_speciesMetab=df_speciesMetab, \n",
    "                                           df_speciesAbun=df_speciesAbun)\n",
    "df_cons_abun_prod_avg = df_cons_abun_prod.mean(axis=0)\n",
    "id_metabs_sorted = np.argsort(df_cons_abun_prod_avg)[::-1]"
   ]
  },
  {
   "cell_type": "code",
   "execution_count": 18,
   "id": "59965b09",
   "metadata": {},
   "outputs": [],
   "source": [
    "# metabolite names and indices of the selected metabolites (metabolites used for the \n",
    "# species-metabolite consumption matrix, c_species^metabolite)\n",
    "file_metabNames = os.path.join(data_dir, \n",
    "                                \"metabolites_list_FC.csv\")\n",
    "df_metabNames = pd.read_csv(file_metabNames, sep=\",\", header=0)\n",
    "\n",
    "file_metabIds = os.path.join(data_dir, \n",
    "                                \"metabolite_indices.csv\")\n",
    "df_metabIds = pd.read_csv(file_metabIds, sep=\",\", header=None)"
   ]
  },
  {
   "cell_type": "code",
   "execution_count": 19,
   "id": "be0294e2",
   "metadata": {},
   "outputs": [
    {
     "ename": "NameError",
     "evalue": "name 'id_nnz' is not defined",
     "output_type": "error",
     "traceback": [
      "\u001b[0;31m---------------------------------------------------------------------------\u001b[0m",
      "\u001b[0;31mNameError\u001b[0m                                 Traceback (most recent call last)",
      "Input \u001b[0;32mIn [19]\u001b[0m, in \u001b[0;36m<cell line: 4>\u001b[0;34m()\u001b[0m\n\u001b[1;32m      2\u001b[0m df_tmp \u001b[38;5;241m=\u001b[39m pd\u001b[38;5;241m.\u001b[39mDataFrame(data\u001b[38;5;241m=\u001b[39m{\u001b[38;5;124m\"\u001b[39m\u001b[38;5;124mnames\u001b[39m\u001b[38;5;124m\"\u001b[39m : metabs_[id_metabs_sorted], \u001b[38;5;124m\"\u001b[39m\u001b[38;5;124mpi\u001b[39m\u001b[38;5;124m\"\u001b[39m : df_cons_abun_prod_avg})\n\u001b[1;32m      3\u001b[0m \u001b[38;5;66;03m# print(df_tmp)\u001b[39;00m\n\u001b[0;32m----> 4\u001b[0m \u001b[38;5;28mprint\u001b[39m(df_tmp\u001b[38;5;241m.\u001b[39miloc[\u001b[43mid_nnz\u001b[49m, \u001b[38;5;241m0\u001b[39m]\u001b[38;5;241m.\u001b[39mvalues)\n",
      "\u001b[0;31mNameError\u001b[0m: name 'id_nnz' is not defined"
     ]
    }
   ],
   "source": [
    "metabs_ = df_metabNames.iloc[df_metabIds.iloc[:, 0], 1].values\n",
    "df_tmp = pd.DataFrame(data={\"names\" : metabs_[id_metabs_sorted], \"pi\" : df_cons_abun_prod_avg})\n",
    "# print(df_tmp)\n",
    "print(df_tmp.iloc[id_nnz, 0].values)\n"
   ]
  },
  {
   "cell_type": "code",
   "execution_count": 20,
   "id": "b6f18433",
   "metadata": {},
   "outputs": [],
   "source": [
    "# species names and indices of the selected species (metabolites used for the \n",
    "# species abundance matrix, B_species_k)\n",
    "file_speciesNames = os.path.join(data_dir, \n",
    "                                \"species_list.csv\")\n",
    "df_speciesNames = pd.read_csv(file_speciesNames, sep=\",\", header=0)\n",
    "\n",
    "file_speciesIds = os.path.join(data_dir, \n",
    "                                \"species_indices.csv\")\n",
    "df_speciesIds = pd.read_csv(file_speciesIds, sep=\",\", header=None)"
   ]
  },
  {
   "cell_type": "code",
   "execution_count": 22,
   "id": "c6cf34f2",
   "metadata": {},
   "outputs": [
    {
     "data": {
      "text/html": [
       "<div>\n",
       "<style scoped>\n",
       "    .dataframe tbody tr th:only-of-type {\n",
       "        vertical-align: middle;\n",
       "    }\n",
       "\n",
       "    .dataframe tbody tr th {\n",
       "        vertical-align: top;\n",
       "    }\n",
       "\n",
       "    .dataframe thead th {\n",
       "        text-align: right;\n",
       "    }\n",
       "</style>\n",
       "<table border=\"1\" class=\"dataframe\">\n",
       "  <thead>\n",
       "    <tr style=\"text-align: right;\">\n",
       "      <th></th>\n",
       "      <th>0</th>\n",
       "      <th>1</th>\n",
       "      <th>2</th>\n",
       "      <th>3</th>\n",
       "      <th>4</th>\n",
       "      <th>5</th>\n",
       "      <th>6</th>\n",
       "      <th>7</th>\n",
       "      <th>8</th>\n",
       "      <th>9</th>\n",
       "      <th>...</th>\n",
       "      <th>282</th>\n",
       "      <th>283</th>\n",
       "      <th>284</th>\n",
       "      <th>285</th>\n",
       "      <th>286</th>\n",
       "      <th>287</th>\n",
       "      <th>288</th>\n",
       "      <th>289</th>\n",
       "      <th>290</th>\n",
       "      <th>291</th>\n",
       "    </tr>\n",
       "  </thead>\n",
       "  <tbody>\n",
       "    <tr>\n",
       "      <th>0</th>\n",
       "      <td>0.00000</td>\n",
       "      <td>0.992959</td>\n",
       "      <td>0.000000</td>\n",
       "      <td>0.000000</td>\n",
       "      <td>0.000000</td>\n",
       "      <td>0.000000</td>\n",
       "      <td>0.014442</td>\n",
       "      <td>0.000000</td>\n",
       "      <td>0.000000</td>\n",
       "      <td>0.000000</td>\n",
       "      <td>...</td>\n",
       "      <td>0.000000</td>\n",
       "      <td>0.000000</td>\n",
       "      <td>0.000000</td>\n",
       "      <td>0.000000</td>\n",
       "      <td>0.104553</td>\n",
       "      <td>0.000000</td>\n",
       "      <td>0.221836</td>\n",
       "      <td>0.070147</td>\n",
       "      <td>0.000000</td>\n",
       "      <td>0.0</td>\n",
       "    </tr>\n",
       "    <tr>\n",
       "      <th>1</th>\n",
       "      <td>0.00000</td>\n",
       "      <td>0.987929</td>\n",
       "      <td>0.000000</td>\n",
       "      <td>0.000000</td>\n",
       "      <td>0.000000</td>\n",
       "      <td>0.000000</td>\n",
       "      <td>0.000000</td>\n",
       "      <td>0.000000</td>\n",
       "      <td>0.916520</td>\n",
       "      <td>0.000000</td>\n",
       "      <td>...</td>\n",
       "      <td>0.000000</td>\n",
       "      <td>0.000000</td>\n",
       "      <td>0.135037</td>\n",
       "      <td>0.000000</td>\n",
       "      <td>0.143596</td>\n",
       "      <td>0.000000</td>\n",
       "      <td>0.790017</td>\n",
       "      <td>0.000000</td>\n",
       "      <td>0.000000</td>\n",
       "      <td>0.0</td>\n",
       "    </tr>\n",
       "    <tr>\n",
       "      <th>2</th>\n",
       "      <td>0.00000</td>\n",
       "      <td>0.000000</td>\n",
       "      <td>0.000000</td>\n",
       "      <td>0.000000</td>\n",
       "      <td>0.071749</td>\n",
       "      <td>0.786843</td>\n",
       "      <td>0.000000</td>\n",
       "      <td>0.000000</td>\n",
       "      <td>0.000000</td>\n",
       "      <td>0.813938</td>\n",
       "      <td>...</td>\n",
       "      <td>0.000000</td>\n",
       "      <td>0.000000</td>\n",
       "      <td>0.283760</td>\n",
       "      <td>0.020476</td>\n",
       "      <td>0.864645</td>\n",
       "      <td>0.134274</td>\n",
       "      <td>0.960560</td>\n",
       "      <td>0.000000</td>\n",
       "      <td>0.285223</td>\n",
       "      <td>0.0</td>\n",
       "    </tr>\n",
       "    <tr>\n",
       "      <th>3</th>\n",
       "      <td>0.00000</td>\n",
       "      <td>0.119998</td>\n",
       "      <td>0.000000</td>\n",
       "      <td>0.997475</td>\n",
       "      <td>0.000000</td>\n",
       "      <td>0.175925</td>\n",
       "      <td>0.161736</td>\n",
       "      <td>0.000000</td>\n",
       "      <td>0.141034</td>\n",
       "      <td>0.096047</td>\n",
       "      <td>...</td>\n",
       "      <td>0.000000</td>\n",
       "      <td>0.181099</td>\n",
       "      <td>0.000000</td>\n",
       "      <td>0.977622</td>\n",
       "      <td>0.057470</td>\n",
       "      <td>0.405372</td>\n",
       "      <td>0.996726</td>\n",
       "      <td>0.985360</td>\n",
       "      <td>0.036128</td>\n",
       "      <td>0.0</td>\n",
       "    </tr>\n",
       "    <tr>\n",
       "      <th>4</th>\n",
       "      <td>0.00000</td>\n",
       "      <td>0.402634</td>\n",
       "      <td>0.000000</td>\n",
       "      <td>0.000000</td>\n",
       "      <td>0.000000</td>\n",
       "      <td>0.827697</td>\n",
       "      <td>0.000000</td>\n",
       "      <td>0.000000</td>\n",
       "      <td>0.288069</td>\n",
       "      <td>0.457678</td>\n",
       "      <td>...</td>\n",
       "      <td>0.000000</td>\n",
       "      <td>0.000000</td>\n",
       "      <td>0.000000</td>\n",
       "      <td>0.000000</td>\n",
       "      <td>0.000000</td>\n",
       "      <td>0.000000</td>\n",
       "      <td>0.000000</td>\n",
       "      <td>0.949384</td>\n",
       "      <td>0.000000</td>\n",
       "      <td>0.0</td>\n",
       "    </tr>\n",
       "    <tr>\n",
       "      <th>...</th>\n",
       "      <td>...</td>\n",
       "      <td>...</td>\n",
       "      <td>...</td>\n",
       "      <td>...</td>\n",
       "      <td>...</td>\n",
       "      <td>...</td>\n",
       "      <td>...</td>\n",
       "      <td>...</td>\n",
       "      <td>...</td>\n",
       "      <td>...</td>\n",
       "      <td>...</td>\n",
       "      <td>...</td>\n",
       "      <td>...</td>\n",
       "      <td>...</td>\n",
       "      <td>...</td>\n",
       "      <td>...</td>\n",
       "      <td>...</td>\n",
       "      <td>...</td>\n",
       "      <td>...</td>\n",
       "      <td>...</td>\n",
       "      <td>...</td>\n",
       "    </tr>\n",
       "    <tr>\n",
       "      <th>58</th>\n",
       "      <td>0.00000</td>\n",
       "      <td>0.200966</td>\n",
       "      <td>0.141728</td>\n",
       "      <td>0.000000</td>\n",
       "      <td>0.000000</td>\n",
       "      <td>0.652087</td>\n",
       "      <td>0.050226</td>\n",
       "      <td>0.000000</td>\n",
       "      <td>0.348466</td>\n",
       "      <td>0.348539</td>\n",
       "      <td>...</td>\n",
       "      <td>0.000000</td>\n",
       "      <td>0.000000</td>\n",
       "      <td>0.000000</td>\n",
       "      <td>0.298522</td>\n",
       "      <td>0.000000</td>\n",
       "      <td>0.000000</td>\n",
       "      <td>0.000000</td>\n",
       "      <td>0.974129</td>\n",
       "      <td>0.000000</td>\n",
       "      <td>0.0</td>\n",
       "    </tr>\n",
       "    <tr>\n",
       "      <th>59</th>\n",
       "      <td>0.44559</td>\n",
       "      <td>0.058588</td>\n",
       "      <td>0.000000</td>\n",
       "      <td>0.179604</td>\n",
       "      <td>0.000000</td>\n",
       "      <td>0.361881</td>\n",
       "      <td>0.000000</td>\n",
       "      <td>0.000000</td>\n",
       "      <td>0.130612</td>\n",
       "      <td>0.000373</td>\n",
       "      <td>...</td>\n",
       "      <td>0.000000</td>\n",
       "      <td>0.000000</td>\n",
       "      <td>0.000000</td>\n",
       "      <td>0.025765</td>\n",
       "      <td>0.000000</td>\n",
       "      <td>0.039111</td>\n",
       "      <td>0.314827</td>\n",
       "      <td>0.797749</td>\n",
       "      <td>0.000000</td>\n",
       "      <td>0.0</td>\n",
       "    </tr>\n",
       "    <tr>\n",
       "      <th>60</th>\n",
       "      <td>0.00000</td>\n",
       "      <td>0.000000</td>\n",
       "      <td>0.000000</td>\n",
       "      <td>0.000000</td>\n",
       "      <td>0.938443</td>\n",
       "      <td>0.375303</td>\n",
       "      <td>0.000000</td>\n",
       "      <td>0.000000</td>\n",
       "      <td>0.000000</td>\n",
       "      <td>0.000000</td>\n",
       "      <td>...</td>\n",
       "      <td>0.000000</td>\n",
       "      <td>0.000000</td>\n",
       "      <td>0.000000</td>\n",
       "      <td>0.000000</td>\n",
       "      <td>0.000000</td>\n",
       "      <td>0.002837</td>\n",
       "      <td>0.371886</td>\n",
       "      <td>0.932531</td>\n",
       "      <td>0.000000</td>\n",
       "      <td>0.0</td>\n",
       "    </tr>\n",
       "    <tr>\n",
       "      <th>61</th>\n",
       "      <td>0.00000</td>\n",
       "      <td>0.162898</td>\n",
       "      <td>0.217158</td>\n",
       "      <td>0.000000</td>\n",
       "      <td>0.000000</td>\n",
       "      <td>0.563057</td>\n",
       "      <td>0.000000</td>\n",
       "      <td>0.273662</td>\n",
       "      <td>0.079772</td>\n",
       "      <td>0.077823</td>\n",
       "      <td>...</td>\n",
       "      <td>0.253915</td>\n",
       "      <td>0.043567</td>\n",
       "      <td>0.637154</td>\n",
       "      <td>0.161100</td>\n",
       "      <td>0.151394</td>\n",
       "      <td>0.000710</td>\n",
       "      <td>0.532648</td>\n",
       "      <td>0.799041</td>\n",
       "      <td>0.065574</td>\n",
       "      <td>0.0</td>\n",
       "    </tr>\n",
       "    <tr>\n",
       "      <th>62</th>\n",
       "      <td>0.00000</td>\n",
       "      <td>0.000000</td>\n",
       "      <td>0.000000</td>\n",
       "      <td>0.493556</td>\n",
       "      <td>0.224312</td>\n",
       "      <td>0.000000</td>\n",
       "      <td>0.000000</td>\n",
       "      <td>0.000000</td>\n",
       "      <td>0.222897</td>\n",
       "      <td>0.000000</td>\n",
       "      <td>...</td>\n",
       "      <td>0.000000</td>\n",
       "      <td>0.024133</td>\n",
       "      <td>0.000000</td>\n",
       "      <td>0.043985</td>\n",
       "      <td>0.042430</td>\n",
       "      <td>0.184180</td>\n",
       "      <td>0.628580</td>\n",
       "      <td>0.000000</td>\n",
       "      <td>0.000000</td>\n",
       "      <td>0.0</td>\n",
       "    </tr>\n",
       "  </tbody>\n",
       "</table>\n",
       "<p>63 rows × 292 columns</p>\n",
       "</div>"
      ],
      "text/plain": [
       "        0         1         2         3         4         5         6    \\\n",
       "0   0.00000  0.992959  0.000000  0.000000  0.000000  0.000000  0.014442   \n",
       "1   0.00000  0.987929  0.000000  0.000000  0.000000  0.000000  0.000000   \n",
       "2   0.00000  0.000000  0.000000  0.000000  0.071749  0.786843  0.000000   \n",
       "3   0.00000  0.119998  0.000000  0.997475  0.000000  0.175925  0.161736   \n",
       "4   0.00000  0.402634  0.000000  0.000000  0.000000  0.827697  0.000000   \n",
       "..      ...       ...       ...       ...       ...       ...       ...   \n",
       "58  0.00000  0.200966  0.141728  0.000000  0.000000  0.652087  0.050226   \n",
       "59  0.44559  0.058588  0.000000  0.179604  0.000000  0.361881  0.000000   \n",
       "60  0.00000  0.000000  0.000000  0.000000  0.938443  0.375303  0.000000   \n",
       "61  0.00000  0.162898  0.217158  0.000000  0.000000  0.563057  0.000000   \n",
       "62  0.00000  0.000000  0.000000  0.493556  0.224312  0.000000  0.000000   \n",
       "\n",
       "         7         8         9    ...       282       283       284       285  \\\n",
       "0   0.000000  0.000000  0.000000  ...  0.000000  0.000000  0.000000  0.000000   \n",
       "1   0.000000  0.916520  0.000000  ...  0.000000  0.000000  0.135037  0.000000   \n",
       "2   0.000000  0.000000  0.813938  ...  0.000000  0.000000  0.283760  0.020476   \n",
       "3   0.000000  0.141034  0.096047  ...  0.000000  0.181099  0.000000  0.977622   \n",
       "4   0.000000  0.288069  0.457678  ...  0.000000  0.000000  0.000000  0.000000   \n",
       "..       ...       ...       ...  ...       ...       ...       ...       ...   \n",
       "58  0.000000  0.348466  0.348539  ...  0.000000  0.000000  0.000000  0.298522   \n",
       "59  0.000000  0.130612  0.000373  ...  0.000000  0.000000  0.000000  0.025765   \n",
       "60  0.000000  0.000000  0.000000  ...  0.000000  0.000000  0.000000  0.000000   \n",
       "61  0.273662  0.079772  0.077823  ...  0.253915  0.043567  0.637154  0.161100   \n",
       "62  0.000000  0.222897  0.000000  ...  0.000000  0.024133  0.000000  0.043985   \n",
       "\n",
       "         286       287       288       289       290  291  \n",
       "0   0.104553  0.000000  0.221836  0.070147  0.000000  0.0  \n",
       "1   0.143596  0.000000  0.790017  0.000000  0.000000  0.0  \n",
       "2   0.864645  0.134274  0.960560  0.000000  0.285223  0.0  \n",
       "3   0.057470  0.405372  0.996726  0.985360  0.036128  0.0  \n",
       "4   0.000000  0.000000  0.000000  0.949384  0.000000  0.0  \n",
       "..       ...       ...       ...       ...       ...  ...  \n",
       "58  0.000000  0.000000  0.000000  0.974129  0.000000  0.0  \n",
       "59  0.000000  0.039111  0.314827  0.797749  0.000000  0.0  \n",
       "60  0.000000  0.002837  0.371886  0.932531  0.000000  0.0  \n",
       "61  0.151394  0.000710  0.532648  0.799041  0.065574  0.0  \n",
       "62  0.042430  0.184180  0.628580  0.000000  0.000000  0.0  \n",
       "\n",
       "[63 rows x 292 columns]"
      ]
     },
     "execution_count": 22,
     "metadata": {},
     "output_type": "execute_result"
    }
   ],
   "source": [
    "df_speciesMetab"
   ]
  },
  {
   "cell_type": "code",
   "execution_count": 675,
   "id": "e01541c5",
   "metadata": {},
   "outputs": [
    {
     "data": {
      "text/plain": [
       "array(['Acidaminococcus intestini D21 BEI HM-81',\n",
       "       'Acidaminococcus sp. HPA0509 BEI HM-853',\n",
       "       'Anaerostipes sp. 3_2_56FAA BEI HM-220 904a',\n",
       "       'Atopobium parvulum CC14Z BEI HM-1035',\n",
       "       'Bacteroides caccae CL03T12C61 BEI HM-728',\n",
       "       'Bacteroides coprophilus DSMZ 18228',\n",
       "       'Bacteroides dorei 5_1_36/D4 BEI HM-29',\n",
       "       'Bacteroides dorei CL02T00C15 BEI HM-717',\n",
       "       'Bacteroides eggerthii ATCC 27754',\n",
       "       'Bacteroides finegoldii CL09T03C10 BEI HM-727',\n",
       "       'Bacteroides fragilis 3_1_12 BEI HM-20',\n",
       "       'Bacteroides fragilis CL03T12C07 BEI HM-714',\n",
       "       'Bacteroides ovatus 3_8_47FAA BEI HM-222',\n",
       "       'Bacteroides plebeius DSMZ 17135',\n",
       "       'Bacteroides salyersiae CL02T12C01 BEI HM-725',\n",
       "       'Bacteroides sp. 2_1_16 BEI HM-58',\n",
       "       'Bacteroides sp. 2_1_22 BEI HM-18',\n",
       "       'Bacteroides sp. 3_1_19 BEI HM-19',\n",
       "       'Bacteroides sp. 4_1_36 BEI HM-258',\n",
       "       'Bacteroides sp. D20 BEI HM-189',\n",
       "       'Bacteroides stercoris ATCC 43183',\n",
       "       'Bacteroides stercoris CC31F BEI HM-1036',\n",
       "       'Bacteroides thetaiotaomicron wh302',\n",
       "       'Bacteroides vulgatus ATCC 8482',\n",
       "       'Bacteroides vulgatus CL09T03C04 BEI HM-720',\n",
       "       'Bifidobacterium bifidum DSMZ 20456',\n",
       "       'Bifidobacterium longum NCC 2705', 'Blautia producta DMSZ 2950',\n",
       "       'Citrobacter portucalensis 30_2  BEI HM-34',\n",
       "       'Clostridium leptum DSMZ 753', 'Clostridium perfringens',\n",
       "       'Clostridium sp. KLE 1755 BEI HM-1033',\n",
       "       'Clostridium symbiosum BEI HM-309', 'Coprococcus comes ATCC 27758',\n",
       "       'Coprococcus sp. HPP0048 BEI HM-794',\n",
       "       'Desulfovibrio piger ATCC 29098 M2',\n",
       "       'Dorea longicatena DSMZ 13814', 'Edwardsiella tarda ATCC 23685',\n",
       "       'Enterobacter cancerogenus ATCC 35316',\n",
       "       'Eubacterium siraeum DSMZ 15702',\n",
       "       'Eubacterium ventriosum DSMZ 3988',\n",
       "       'Facklamia sp. HGF4 BEI HM-289', 'Holdemanella biformis DSMZ 3989',\n",
       "       'Holdemania filiformis DSMZ 12042',\n",
       "       'Hungatella hathewayi DSM 13479',\n",
       "       'Intestinibacter bartlettii DSM 16795',\n",
       "       'Lachnospiraceae sp. 1_4_56FAA BEI HM-161',\n",
       "       'Lactobacillus reuteri CF48-3A BEI HM-102',\n",
       "       'Lactococcus lactis DSMZ 20729',\n",
       "       'Marvinbryantia formatexigens DSMZ 14469',\n",
       "       'Mitsuokella multacida DSMZ 20544',\n",
       "       'Muribaculum intestinale DSMZ 28989 YL27',\n",
       "       'Parabacteroides goldsteinii CC87F BEI HM-1050',\n",
       "       'Parabacteroides merdae ATCC 43184',\n",
       "       'Parabacteroides merdae CL09T00C40 BEI HM-729',\n",
       "       'Peptostreptococcus sp. CC14N BEI HM-1051',\n",
       "       'Prevotella buccae D17', 'Ruminococcus gnavus ATCC 29149',\n",
       "       'Ruminococcus gnavus CC55_001C BEI HM-1056',\n",
       "       'Slackia exigua ATCC 700122',\n",
       "       'Streptococcus parasanguinis CC87K BEI HM-1060',\n",
       "       'Subdoligranulum variabile DSMZ 15176',\n",
       "       'Varibaculum cambriense AB12_3 BEI HM-1190'], dtype=object)"
      ]
     },
     "execution_count": 675,
     "metadata": {},
     "output_type": "execute_result"
    }
   ],
   "source": [
    "df_speciesNames.iloc[df_speciesIds.iloc[:, 0].values, 0].values"
   ]
  },
  {
   "cell_type": "code",
   "execution_count": 23,
   "id": "6284f9b8",
   "metadata": {},
   "outputs": [],
   "source": [
    "species_names = [\"Acidaminococcus\", \"Anaerostipes\", \"Atopobium\", \"Bacteroides\", \"Bifidobacterium\", \\\n",
    "                \"Blautia\", \\\n",
    "                \"Citrobacter\", \"Clostridium\", \"Coprococcus\", \"Desulfovibrio\", \"Dorea\", \\\n",
    "                \"Edwardsiella\", \"Enterobacter\", \"Eubacterium\", \"Facklamia\", \"Holdemanella\", \\\n",
    "                \"Holdemania\", \"Hungatella\", \"Intestinibacter\", \"Lachnospiraceae\", \"Lactobacillus\", \\\n",
    "                \"Lactococcus\", \"Marvinbryantia\", \"Mitsuokella\", \"Muribaculum\", \"Parabacteroides\", \\\n",
    "                \"Peptostreptococcus\", \"Prevotella\", \"Ruminococcus\", \"Slackia\", \"Streptococcus\", \\\n",
    "                \"Subdoligranulum\", \"Varibaculum\"]\n",
    "strains = df_speciesNames.iloc[df_speciesIds.iloc[:, 0].values, 0].values\n",
    "\n",
    "species_names_to_strainID = {}\n",
    "for species_ in species_names:\n",
    "    species_names_to_strainID[species_] = []\n",
    "    for row_ in range(len(strains)):\n",
    "        if species_ in strains[row_]:\n",
    "            species_names_to_strainID[species_].append(row_)"
   ]
  },
  {
   "cell_type": "code",
   "execution_count": 24,
   "id": "a90dade7",
   "metadata": {},
   "outputs": [
    {
     "data": {
      "text/plain": [
       "{'Acidaminococcus': [0, 1],\n",
       " 'Anaerostipes': [2],\n",
       " 'Atopobium': [3],\n",
       " 'Bacteroides': [4,\n",
       "  5,\n",
       "  6,\n",
       "  7,\n",
       "  8,\n",
       "  9,\n",
       "  10,\n",
       "  11,\n",
       "  12,\n",
       "  13,\n",
       "  14,\n",
       "  15,\n",
       "  16,\n",
       "  17,\n",
       "  18,\n",
       "  19,\n",
       "  20,\n",
       "  21,\n",
       "  22,\n",
       "  23,\n",
       "  24],\n",
       " 'Bifidobacterium': [25, 26],\n",
       " 'Blautia': [27],\n",
       " 'Citrobacter': [28],\n",
       " 'Clostridium': [29, 30, 31, 32],\n",
       " 'Coprococcus': [33, 34],\n",
       " 'Desulfovibrio': [35],\n",
       " 'Dorea': [36],\n",
       " 'Edwardsiella': [37],\n",
       " 'Enterobacter': [38],\n",
       " 'Eubacterium': [39, 40],\n",
       " 'Facklamia': [41],\n",
       " 'Holdemanella': [42],\n",
       " 'Holdemania': [43],\n",
       " 'Hungatella': [44],\n",
       " 'Intestinibacter': [45],\n",
       " 'Lachnospiraceae': [46],\n",
       " 'Lactobacillus': [47],\n",
       " 'Lactococcus': [48],\n",
       " 'Marvinbryantia': [49],\n",
       " 'Mitsuokella': [50],\n",
       " 'Muribaculum': [51],\n",
       " 'Parabacteroides': [52, 53, 54],\n",
       " 'Peptostreptococcus': [55],\n",
       " 'Prevotella': [56],\n",
       " 'Ruminococcus': [57, 58],\n",
       " 'Slackia': [59],\n",
       " 'Streptococcus': [60],\n",
       " 'Subdoligranulum': [61],\n",
       " 'Varibaculum': [62]}"
      ]
     },
     "execution_count": 24,
     "metadata": {},
     "output_type": "execute_result"
    }
   ],
   "source": [
    "species_names_to_strainID"
   ]
  },
  {
   "cell_type": "code",
   "execution_count": 27,
   "id": "5795db74",
   "metadata": {},
   "outputs": [],
   "source": [
    "# create one matrix of c_i^alpha / (sum_beta c_i^beta B_beta(k)) (species X metabolites) \n",
    "# for each passage and bioreplicate\n",
    "# sample_names = create_abundance_header()\n",
    "# mat_cons_abun_list = {}\n",
    "# tmp_ones = np.ones((num_species, 1))\n",
    "# for sample_ in sample_names:\n",
    "#     df_denom = df_cons_abun_prod.loc[sample_, :]\n",
    "#     tmp_mat = np.array(df_denom).reshape((1, num_metabs))\n",
    "#     mat_denom = np.matmul(tmp_ones, tmp_mat)\n",
    "#     mat_cons_abun_list[sample_] = np.divide(np.array(df_speciesMetab.copy()), mat_denom)\n",
    "    \n",
    "sample_names, mat_cons_abun_list = \\\n",
    "    compute_species_metab_matrix_for_nnls_new(df_cons_abun_prod=df_cons_abun_prod, \n",
    "                                          df_speciesMetab=df_speciesMetab, \n",
    "                                          num_passages=6, num_bioRep=3)"
   ]
  },
  {
   "cell_type": "code",
   "execution_count": 820,
   "id": "9048a776",
   "metadata": {},
   "outputs": [],
   "source": [
    "# train nnls model when R_i is estimated for all the metabolites using the true order of species \n",
    "# abundances\n",
    "seed_ = 7363\n",
    "np.random.seed(seed_)\n",
    "passages_ = np.array(['p1', 'p2', 'p3', 'p4', 'p5', 'p6'])\n",
    "num_bioRep = 3\n",
    "num_rep_nnls = 1\n",
    "\n",
    "coeff_train = {}\n",
    "output_test = {}\n",
    "for rep_ in range(num_rep_nnls):\n",
    "    coeff_train[rep_] = {}\n",
    "    output_test[rep_] = {}\n",
    "    \n",
    "    passages_ = np.random.permutation(passages_)\n",
    "    for pass_ in passages_:\n",
    "    #     training data\n",
    "        passages_train = np.array(list(set(passages_.tolist()).difference(set([pass_]))))\n",
    "        count_ = 0\n",
    "        for pass__ in passages_train:\n",
    "            samples_train = expand_passage_by_rep(passage_=pass__, num_bioRep=num_bioRep)\n",
    "            for sample_ in samples_train:\n",
    "                A_train_sample = mat_cons_abun_list[sample_]\n",
    "                if count_ == 0:\n",
    "                    A_train = A_train_sample\n",
    "                    count_ += 1\n",
    "                else:\n",
    "                    A_train = np.vstack((A_train, A_train_sample))         \n",
    "        b_train = np.ones((A_train.shape[0]))\n",
    "        coeff_train[rep_][pass_] = nnls(A_train, b_train) \n",
    "\n",
    "    #     test data\n",
    "        passages_test = np.array([pass_])\n",
    "        count_ = 0\n",
    "        for pass__ in passages_test:\n",
    "            samples_test = expand_passage_by_rep(passage_=pass__, num_bioRep=num_bioRep)\n",
    "            for sample_ in samples_test:\n",
    "                A_test_sample = mat_cons_abun_list[sample_]\n",
    "                if count_ == 0:\n",
    "                    A_test = A_test_sample\n",
    "                    count_ += 1\n",
    "                else:\n",
    "                    A_test = np.vstack((A_test, A_test_sample))         \n",
    "        output_test[rep_][pass_] = np.dot(A_test, coeff_train[rep_][pass_][0])\n",
    "    "
   ]
  },
  {
   "cell_type": "code",
   "execution_count": 586,
   "id": "f950224d",
   "metadata": {},
   "outputs": [],
   "source": [
    "pass_vec = []\n",
    "output_vec = []\n",
    "coeff_nnz_vec = []\n",
    "for pass_ in passages_:\n",
    "    output_vec += list(output_test[rep_][pass_])\n",
    "    pass_vec += [pass_] * len(output_test[rep_][pass_])\n",
    "    coeff_nnz_vec.append(len(np.where(coeff_train[rep_][pass_][0] != 0)[0]))\n",
    "    \n",
    "df_output = pd.DataFrame(data={'passage#' : pass_vec, 'output' : output_vec})"
   ]
  },
  {
   "cell_type": "code",
   "execution_count": 822,
   "id": "731f6644",
   "metadata": {},
   "outputs": [
    {
     "data": {
      "text/plain": [
       "array([3.23771248e-02, 3.71827872e-01, 5.60028740e-03, 4.41748506e-02,\n",
       "       2.27514847e-02, 3.87647747e-01, 1.85902865e-02, 1.13748654e-03,\n",
       "       4.40047069e-01, 3.34661303e-01, 2.66223296e-04, 1.26855313e-02,\n",
       "       1.60469572e-02, 2.91638876e-02, 6.83469381e-02, 2.75333010e-02,\n",
       "       2.97596113e-07, 2.43775783e-02, 1.67987913e-02, 4.19353273e-01,\n",
       "       6.96041398e-03, 1.14880740e-03, 5.26691660e-03, 6.57463645e-02,\n",
       "       2.38649331e-01, 2.27795198e-05, 8.96074453e-02, 7.31812094e-02,\n",
       "       2.39623390e-01, 7.91786079e-02, 3.88525053e-05, 1.16675111e-01,\n",
       "       2.72124300e-03, 1.24487683e-03, 1.11439725e-01, 8.14196180e-02,\n",
       "       1.37866103e-07, 1.04338494e-03, 4.43578798e-01, 1.64310622e-01,\n",
       "       2.53754053e-04, 1.77409762e-06, 1.48956896e-01, 9.21433552e-02,\n",
       "       8.51910052e-02, 1.32499566e-01, 2.32943445e-02, 2.27464798e-01,\n",
       "       4.45611845e-02, 6.74324268e-03, 7.47258600e-03, 8.16299971e-03,\n",
       "       1.43753057e-02, 7.40399703e-02, 1.31371843e-01, 3.28523749e-02,\n",
       "       1.35446771e-01, 8.95282781e-02, 1.40278722e-01, 1.30459739e-01,\n",
       "       7.13648173e-03, 2.87752997e-06, 2.89241659e-02, 9.54714613e-02,\n",
       "       4.08376548e-02, 4.45938259e-02, 5.56639529e-01, 3.00766199e-01,\n",
       "       3.52827515e-01, 4.19398177e-01, 8.21838923e-02, 2.05338205e-01,\n",
       "       1.56006217e-01, 1.17591720e-01, 3.58741946e-02, 1.59310037e-01,\n",
       "       1.20377747e-02, 5.70841015e-01, 1.19354517e-01, 2.54351040e-01,\n",
       "       1.91804485e-02, 3.27037020e-01, 3.96843452e-01, 5.36241270e-02,\n",
       "       2.12867135e-03, 3.75683635e-02, 4.08172784e-02, 3.10630452e-01,\n",
       "       3.04973974e-03, 2.03189857e-01, 2.08420391e-01, 1.36934240e-01,\n",
       "       2.30621483e-01, 3.06760172e-02, 2.64849474e-01, 2.05465184e-01,\n",
       "       3.00195023e-02, 3.73527547e-02, 2.50526195e-02, 2.51722058e-03,\n",
       "       1.99154121e-02, 1.65153783e-01, 2.14104161e-04, 8.10474286e-03,\n",
       "       1.02158241e-01, 4.68914229e-02, 3.48661775e-02, 5.80875678e-02,\n",
       "       5.59091411e-02, 4.80015157e-02, 3.11195857e-02, 2.05226759e-02,\n",
       "       2.32957552e-01, 2.77944149e-02, 3.08766690e-02, 4.68146647e-02,\n",
       "       1.15789586e-01, 1.00400189e-01, 2.87730743e-04, 2.06662192e-02,\n",
       "       8.38390721e-03, 1.20572212e-07, 5.95238590e-03, 2.89262688e-02,\n",
       "       2.50033964e-02, 1.28075738e-01, 3.36833171e-01, 1.17783246e-01,\n",
       "       1.04971502e-01, 5.02027072e-03, 8.52398281e-02, 1.88347003e-02,\n",
       "       4.40368803e-01, 3.33698389e-03, 5.45185755e-04, 1.94887288e-08,\n",
       "       8.92704826e-02, 4.49585593e-02, 4.42713019e-02, 7.56515699e-03,\n",
       "       3.03028482e-02, 2.89590592e-02, 4.79978314e-02, 1.43133406e-02,\n",
       "       3.96254487e-01, 3.70847712e-02, 2.30935110e-01, 1.25544633e-01,\n",
       "       1.07453970e-07, 1.00470196e-02, 7.47549798e-02, 4.37168345e-02,\n",
       "       2.41453778e-02, 4.31712159e-02, 6.65483339e-02, 4.29161926e-01,\n",
       "       3.74118194e-01, 3.97887942e-02, 2.63146033e-04, 8.93002435e-03,\n",
       "       1.52389200e-06, 1.68015160e-01, 4.35994483e-07, 1.08616310e-04,\n",
       "       9.70853082e-03, 1.13408198e-05, 6.90198082e-01, 1.73830627e-01,\n",
       "       3.65212768e-01, 6.36114120e-01, 2.76966547e-01, 6.05432264e-03,\n",
       "       1.51224896e-01, 2.86835870e-02, 8.32108955e-02, 1.84831267e-01,\n",
       "       5.71053489e-02, 4.59084273e-01, 6.25360050e-01, 3.75643443e-01,\n",
       "       3.25562752e-02, 2.38016047e-03, 3.83419642e-02, 3.70841721e-02,\n",
       "       4.49759164e-01, 1.23371021e-01, 3.73425086e-04, 5.44180173e-02,\n",
       "       6.33533325e-03, 7.83641946e-02, 6.60563266e-02, 1.71848272e-01,\n",
       "       3.09286658e-01, 6.45530311e-02, 1.20935272e-01, 6.75924328e-02,\n",
       "       3.70935827e-05, 6.79172996e-02, 4.41688155e-04, 3.25228375e-02,\n",
       "       7.41606613e-02, 5.35560452e-03, 3.26821185e-02, 1.14749526e-01,\n",
       "       4.13114739e-03, 3.11498406e-01, 7.15494072e-01, 5.37657037e-01,\n",
       "       5.32481112e-01, 3.61183219e-01, 1.61751958e-01, 4.27282262e-06,\n",
       "       4.55234864e-02, 1.64466810e-02, 2.54839261e-01, 1.46819843e-02,\n",
       "       1.18986966e-02, 2.96141026e-01, 4.90198456e-03, 3.35822788e-03,\n",
       "       3.00922859e-04, 1.25319018e-02, 4.16376473e-01, 2.09710900e-02,\n",
       "       2.19984534e-01, 1.02032479e-01, 3.91212637e-03, 1.01103656e-01,\n",
       "       2.24715995e-01, 9.84111380e-02, 5.10827741e-01, 7.85825399e-03,\n",
       "       1.90748000e-02, 2.10556406e-01, 1.40374265e-01, 1.87162986e-01,\n",
       "       2.49684093e-02, 1.18155569e-02, 7.67345161e-03, 4.60651509e-03,\n",
       "       4.57911635e-01, 4.61043883e-02, 6.25543350e-02, 1.76918497e-03,\n",
       "       5.76916457e-02, 2.18151053e-02, 4.69876183e-02, 1.48967522e-01,\n",
       "       1.97781702e-07, 5.89751510e-02, 8.78144865e-03, 4.94685547e-01,\n",
       "       6.31878169e-02, 3.62646666e-01, 8.74908392e-02, 1.87302574e-01,\n",
       "       4.15745484e-02, 2.23629133e-01, 1.71724954e-01, 8.29032414e-02,\n",
       "       1.43187627e-02, 6.69019716e-02, 7.12969328e-02, 5.74242076e-02,\n",
       "       5.82305711e-02, 2.80644461e-02, 6.43631884e-02, 1.70553515e-01,\n",
       "       6.66497540e-02, 2.99398170e-01, 2.37258166e-01, 2.18607976e-01,\n",
       "       4.44018053e-01, 5.28787946e-02, 1.25161756e-01, 6.30403451e-02,\n",
       "       1.22243469e-01, 3.01704218e-03, 5.46222041e-02, 2.98516356e-01,\n",
       "       2.36056687e-03, 4.54567732e-02, 1.35383097e-02, 5.77074977e-03,\n",
       "       6.14363399e-02, 4.82835777e-02, 9.55177957e-02, 5.91874025e-02,\n",
       "       3.51504471e-01, 4.60991591e-01, 3.55654614e-02, 2.48110339e-06])"
      ]
     },
     "execution_count": 822,
     "metadata": {},
     "output_type": "execute_result"
    }
   ],
   "source": [
    "df_cons_abun_prod_avg[id_]"
   ]
  },
  {
   "cell_type": "code",
   "execution_count": 587,
   "id": "1694b855",
   "metadata": {},
   "outputs": [
    {
     "name": "stdout",
     "output_type": "stream",
     "text": [
      "['p1' 'p2' 'p3' 'p4' 'p5' 'p6']\n"
     ]
    }
   ],
   "source": [
    "passages_sorted = np.copy(passages_)\n",
    "passages_sorted.sort()\n",
    "print(passages_sorted)"
   ]
  },
  {
   "cell_type": "code",
   "execution_count": 588,
   "id": "02204ea8",
   "metadata": {},
   "outputs": [
    {
     "data": {
      "image/png": "[encoded data removed]",
      "text/plain": [
       "<Figure size 432x288 with 1 Axes>"
      ]
     },
     "metadata": {
      "needs_background": "light"
     },
     "output_type": "display_data"
    }
   ],
   "source": [
    "graph_ = sns.barplot(data=df_output, x=\"passage#\", y=\"output\", errorbar=\"sd\", \n",
    "           order=passages_sorted)\n",
    "graph_.axhline(1.00, color=\"black\")\n",
    "graph_.set_ylabel(\"output (test)\")\n",
    "save_dir = os.path.abspath(os.path.join(os.getcwd(), '..', 'figures'))\n",
    "save_file = os.path.abspath(os.path.join(save_dir, 'prediction_vs_passage#_test.png'))\n",
    "plt.savefig(save_file, dpi=300, transparent=False, facecolor=\"white\")\n",
    "# sns.barplot(data=df_output, x=\"passage#\", y=\"output\", e)"
   ]
  },
  {
   "cell_type": "code",
   "execution_count": 621,
   "id": "74c89c43",
   "metadata": {},
   "outputs": [],
   "source": [
    "id_metabs_selected = id_metabs_sorted[range(num_select_metabs)]\n",
    "id_metabs_notSelected = id_metabs_sorted[range(num_select_metabs, num_metabs)]\n",
    "mat_cons_abun_tmp = mat_cons_abun_list[sample_].copy()[:, list(id_metabs_selected) + \n",
    "                                                       list(id_metabs_notSelected)]"
   ]
  },
  {
   "cell_type": "code",
   "execution_count": null,
   "id": "a7be960d",
   "metadata": {},
   "outputs": [],
   "source": [
    "df_species"
   ]
  },
  {
   "cell_type": "code",
   "execution_count": 807,
   "id": "94ac6dde",
   "metadata": {},
   "outputs": [],
   "source": [
    "R_i = df_cons_abun_prod.mean(axis=0) / np.mean(df_speciesMetab.sum(axis=1).values)"
   ]
  },
  {
   "cell_type": "code",
   "execution_count": 811,
   "id": "927d99bb",
   "metadata": {},
   "outputs": [],
   "source": [
    "est_species = []\n",
    "for species_ in range(num_species):\n",
    "    tmp = df_speciesMetab.iloc[species_, ].values * R_i / df_cons_abun_prod[0, :]\n",
    "    est_species.append(np.sum(tmp))\n"
   ]
  },
  {
   "cell_type": "code",
   "execution_count": 819,
   "id": "dda4c802",
   "metadata": {},
   "outputs": [
    {
     "name": "stdout",
     "output_type": "stream",
     "text": [
      "[0.6380399  0.98697201 1.57110062 0.80457983 0.81716248 1.00668318\n",
      " 0.76940657 1.10294525 0.51651655 1.28188951 0.71648357 1.05456846\n",
      " 0.93825101 1.15541185 0.87639141 0.69827023 0.77848636 0.75557579\n",
      " 0.82810848 0.68422045 0.69381807 1.3144946  1.14197623 1.48643441\n",
      " 0.75832003 0.73000933 0.75709985 1.1055993  0.77202794 0.86580685\n",
      " 0.37680921 1.19769941 3.3045048  1.77171604 1.29105384 0.6248135\n",
      " 0.78236931 1.16780765 0.72451692 1.08478901 0.66232263 1.14801128\n",
      " 1.16280259 1.14519721 0.86362429 1.7273165  1.75386869 1.40300563\n",
      " 0.90176979 0.8863938  0.69658027 1.98425881 1.02005962 0.55854714\n",
      " 0.6335422  0.77893031 1.2177101  0.44021166 0.89492717 0.54408358\n",
      " 1.15987675 0.84158768 0.64264246]\n",
      "0.44511613849802384\n"
     ]
    }
   ],
   "source": [
    "est_species_norm = np.array(est_species)\n",
    "est_species_norm /= np.mean(est_species)\n",
    "print(est_species_norm)\n",
    "print(np.sqrt(np.var(est_species_norm)))"
   ]
  },
  {
   "cell_type": "code",
   "execution_count": 803,
   "id": "cf629dec",
   "metadata": {},
   "outputs": [
    {
     "data": {
      "text/plain": [
       "array([3.23771248e-02, 3.71827872e-01, 5.60028740e-03, 4.41748506e-02,\n",
       "       2.27514847e-02, 3.87647747e-01, 1.85902865e-02, 1.13748654e-03,\n",
       "       4.40047069e-01, 3.34661303e-01, 2.66223296e-04, 1.26855313e-02,\n",
       "       1.60469572e-02, 2.91638876e-02, 6.83469381e-02, 2.75333010e-02,\n",
       "       2.97596113e-07, 2.43775783e-02, 1.67987913e-02, 4.19353273e-01,\n",
       "       6.96041398e-03, 1.14880740e-03, 5.26691660e-03, 6.57463645e-02,\n",
       "       2.38649331e-01, 2.27795198e-05, 8.96074453e-02, 7.31812094e-02,\n",
       "       2.39623390e-01, 7.91786079e-02, 3.88525053e-05, 1.16675111e-01,\n",
       "       2.72124300e-03, 1.24487683e-03, 1.11439725e-01, 8.14196180e-02,\n",
       "       1.37866103e-07, 1.04338494e-03, 4.43578798e-01, 1.64310622e-01,\n",
       "       2.53754053e-04, 1.77409762e-06, 1.48956896e-01, 9.21433552e-02,\n",
       "       8.51910052e-02, 1.32499566e-01, 2.32943445e-02, 2.27464798e-01,\n",
       "       4.45611845e-02, 6.74324268e-03, 7.47258600e-03, 8.16299971e-03,\n",
       "       1.43753057e-02, 7.40399703e-02, 1.31371843e-01, 3.28523749e-02,\n",
       "       1.35446771e-01, 8.95282781e-02, 1.40278722e-01, 1.30459739e-01,\n",
       "       7.13648173e-03, 2.87752997e-06, 2.89241659e-02, 9.54714613e-02,\n",
       "       4.08376548e-02, 4.45938259e-02, 5.56639529e-01, 3.00766199e-01,\n",
       "       3.52827515e-01, 4.19398177e-01, 8.21838923e-02, 2.05338205e-01,\n",
       "       1.56006217e-01, 1.17591720e-01, 3.58741946e-02, 1.59310037e-01,\n",
       "       1.20377747e-02, 5.70841015e-01, 1.19354517e-01, 2.54351040e-01,\n",
       "       1.91804485e-02, 3.27037020e-01, 3.96843452e-01, 5.36241270e-02,\n",
       "       2.12867135e-03, 3.75683635e-02, 4.08172784e-02, 3.10630452e-01,\n",
       "       3.04973974e-03, 2.03189857e-01, 2.08420391e-01, 1.36934240e-01,\n",
       "       2.30621483e-01, 3.06760172e-02, 2.64849474e-01, 2.05465184e-01,\n",
       "       3.00195023e-02, 3.73527547e-02, 2.50526195e-02, 2.51722058e-03,\n",
       "       1.99154121e-02, 1.65153783e-01, 2.14104161e-04, 8.10474286e-03,\n",
       "       1.02158241e-01, 4.68914229e-02, 3.48661775e-02, 5.80875678e-02,\n",
       "       5.59091411e-02, 4.80015157e-02, 3.11195857e-02, 2.05226759e-02,\n",
       "       2.32957552e-01, 2.77944149e-02, 3.08766690e-02, 4.68146647e-02,\n",
       "       1.15789586e-01, 1.00400189e-01, 2.87730743e-04, 2.06662192e-02,\n",
       "       8.38390721e-03, 1.20572212e-07, 5.95238590e-03, 2.89262688e-02,\n",
       "       2.50033964e-02, 1.28075738e-01, 3.36833171e-01, 1.17783246e-01,\n",
       "       1.04971502e-01, 5.02027072e-03, 8.52398281e-02, 1.88347003e-02,\n",
       "       4.40368803e-01, 3.33698389e-03, 5.45185755e-04, 1.94887288e-08,\n",
       "       8.92704826e-02, 4.49585593e-02, 4.42713019e-02, 7.56515699e-03,\n",
       "       3.03028482e-02, 2.89590592e-02, 4.79978314e-02, 1.43133406e-02,\n",
       "       3.96254487e-01, 3.70847712e-02, 2.30935110e-01, 1.25544633e-01,\n",
       "       1.07453970e-07, 1.00470196e-02, 7.47549798e-02, 4.37168345e-02,\n",
       "       2.41453778e-02, 4.31712159e-02, 6.65483339e-02, 4.29161926e-01,\n",
       "       3.74118194e-01, 3.97887942e-02, 2.63146033e-04, 8.93002435e-03,\n",
       "       1.52389200e-06, 1.68015160e-01, 4.35994483e-07, 1.08616310e-04,\n",
       "       9.70853082e-03, 1.13408198e-05, 6.90198082e-01, 1.73830627e-01,\n",
       "       3.65212768e-01, 6.36114120e-01, 2.76966547e-01, 6.05432264e-03,\n",
       "       1.51224896e-01, 2.86835870e-02, 8.32108955e-02, 1.84831267e-01,\n",
       "       5.71053489e-02, 4.59084273e-01, 6.25360050e-01, 3.75643443e-01,\n",
       "       3.25562752e-02, 2.38016047e-03, 3.83419642e-02, 3.70841721e-02,\n",
       "       4.49759164e-01, 1.23371021e-01, 3.73425086e-04, 5.44180173e-02,\n",
       "       6.33533325e-03, 7.83641946e-02, 6.60563266e-02, 1.71848272e-01,\n",
       "       3.09286658e-01, 6.45530311e-02, 1.20935272e-01, 6.75924328e-02,\n",
       "       3.70935827e-05, 6.79172996e-02, 4.41688155e-04, 3.25228375e-02,\n",
       "       7.41606613e-02, 5.35560452e-03, 3.26821185e-02, 1.14749526e-01,\n",
       "       4.13114739e-03, 3.11498406e-01, 7.15494072e-01, 5.37657037e-01,\n",
       "       5.32481112e-01, 3.61183219e-01, 1.61751958e-01, 4.27282262e-06,\n",
       "       4.55234864e-02, 1.64466810e-02, 2.54839261e-01, 1.46819843e-02,\n",
       "       1.18986966e-02, 2.96141026e-01, 4.90198456e-03, 3.35822788e-03,\n",
       "       3.00922859e-04, 1.25319018e-02, 4.16376473e-01, 2.09710900e-02,\n",
       "       2.19984534e-01, 1.02032479e-01, 3.91212637e-03, 1.01103656e-01,\n",
       "       2.24715995e-01, 9.84111380e-02, 5.10827741e-01, 7.85825399e-03,\n",
       "       1.90748000e-02, 2.10556406e-01, 1.40374265e-01, 1.87162986e-01,\n",
       "       2.49684093e-02, 1.18155569e-02, 7.67345161e-03, 4.60651509e-03,\n",
       "       4.57911635e-01, 4.61043883e-02, 6.25543350e-02, 1.76918497e-03,\n",
       "       5.76916457e-02, 2.18151053e-02, 4.69876183e-02, 1.48967522e-01,\n",
       "       1.97781702e-07, 5.89751510e-02, 8.78144865e-03, 4.94685547e-01,\n",
       "       6.31878169e-02, 3.62646666e-01, 8.74908392e-02, 1.87302574e-01,\n",
       "       4.15745484e-02, 2.23629133e-01, 1.71724954e-01, 8.29032414e-02,\n",
       "       1.43187627e-02, 6.69019716e-02, 7.12969328e-02, 5.74242076e-02,\n",
       "       5.82305711e-02, 2.80644461e-02, 6.43631884e-02, 1.70553515e-01,\n",
       "       6.66497540e-02, 2.99398170e-01, 2.37258166e-01, 2.18607976e-01,\n",
       "       4.44018053e-01, 5.28787946e-02, 1.25161756e-01, 6.30403451e-02,\n",
       "       1.22243469e-01, 3.01704218e-03, 5.46222041e-02, 2.98516356e-01,\n",
       "       2.36056687e-03, 4.54567732e-02, 1.35383097e-02, 5.77074977e-03,\n",
       "       6.14363399e-02, 4.82835777e-02, 9.55177957e-02, 5.91874025e-02,\n",
       "       3.51504471e-01, 4.60991591e-01, 3.55654614e-02, 2.48110339e-06])"
      ]
     },
     "execution_count": 803,
     "metadata": {},
     "output_type": "execute_result"
    }
   ],
   "source": [
    "df_cons_abun_prod.mean(axis=0)"
   ]
  },
  {
   "cell_type": "code",
   "execution_count": 652,
   "id": "149a3947",
   "metadata": {},
   "outputs": [
    {
     "name": "stdout",
     "output_type": "stream",
     "text": [
      "[ 0.4621562   0.1214087   0.75291876  0.57565511  0.35639239  0.36712283\n",
      "  0.46140623  0.71276745  0.0901371   0.62812835  0.46200523  0.51423273\n",
      "  0.65104538  0.72456823  0.94317472  0.27401271  0.51921454  0.43502243\n",
      "  0.91053966  0.31665383  0.47605311  0.82889763  0.32019334  0.41691938\n",
      "  0.32624827  0.42921516  0.40864103  0.70823282  0.2873992   0.67896676\n",
      "  4.26292953  0.94750561  2.18420479  1.00575708  0.62710747 51.08298077\n",
      "  0.43122026  0.84730117  0.68472151  0.46840764  0.73630507  0.45953477\n",
      "  0.60805348  0.51911628  0.4064439   0.62723391  0.85846627  0.6256805\n",
      "  0.51182746  0.57916767  0.43253125  0.71478642  0.56085875  0.18848985\n",
      "  0.32798216  0.61325094  0.73560634  3.40554425  0.41587116  0.57899526\n",
      "  0.54640969  0.6828559   2.78034368]\n"
     ]
    }
   ],
   "source": [
    "tmp_1 = np.dot(mat_cons_abun_list[sample_], \n",
    "       df_cons_abun_prod_avg / )\n",
    "tmp_2 = df_speciesMetab.sum(axis=1).values\n",
    "tmp_3 = np.divide(tmp_1, tmp_2)\n",
    "print(tmp_1)\n",
    "# print(tmp_2[30])\n",
    "# print(tmp_3)\n",
    "\n",
    "\n",
    "# df_speciesMetab.sum(axis=1)"
   ]
  },
  {
   "cell_type": "code",
   "execution_count": 661,
   "id": "6c109681",
   "metadata": {},
   "outputs": [
    {
     "name": "stdout",
     "output_type": "stream",
     "text": [
      "[ 1.06132073  0.98947519  1.31206846  0.98167117  1.31314788  1.0218699\n",
      "  1.17885031  1.8539415   0.37160858  1.73512971  0.84710476  1.59688632\n",
      "  1.50431173  1.88968847  1.54359203  1.08026758  1.41389725  1.27583234\n",
      "  1.26159454  1.15866494  1.25202322  2.10190548  1.13946127  1.31560453\n",
      "  1.21595555  0.95063555  0.9257792   1.32525688  0.81619101  1.05613938\n",
      "  4.33350691  1.6820763   3.0701476   1.55794441  0.97113098 51.32287089\n",
      "  0.8653053   1.24401051  0.85456195  0.72766241  1.03224715  0.77764941\n",
      "  1.06510685  0.91776986  1.05213998  1.33824799  1.58755439  1.31745888\n",
      "  1.02346199  1.19070544  0.95624696  1.47432013  1.43322088  0.5270254\n",
      "  0.75612493  1.06897857  1.39441918  3.62768002  1.15162648  0.89125412\n",
      "  0.98797494  1.26359791  3.01637992]\n",
      "1.0000000000000002\n"
     ]
    }
   ],
   "source": [
    "tmp_1 = np.dot(mat_cons_abun_list[sample_], \n",
    "       df_cons_abun_prod_avg / np.sum(df_cons_abun_prod_avg))\n",
    "print(tmp_1)\n",
    "print(np.dot(tmp_1, df_speciesAbun.loc[:, sample_].values))"
   ]
  },
  {
   "cell_type": "code",
   "execution_count": 663,
   "id": "ff53fd08",
   "metadata": {},
   "outputs": [
    {
     "data": {
      "text/plain": [
       "array([0.71549407, 0.69019808, 0.63611412, 0.62536005, 0.57084102,\n",
       "       0.55663953, 0.53765704, 0.53248111, 0.51082774, 0.49468555,\n",
       "       0.46099159, 0.45908427, 0.45791164, 0.44975916, 0.44401805,\n",
       "       0.4435788 , 0.4403688 , 0.44004707, 0.42916193, 0.41939818,\n",
       "       0.41935327, 0.41637647, 0.39684345, 0.39625449, 0.38764775,\n",
       "       0.37564344, 0.37411819, 0.37182787, 0.36521277, 0.36264667,\n",
       "       0.36118322, 0.35282751, 0.35150447, 0.33683317, 0.3346613 ,\n",
       "       0.32703702, 0.31149841, 0.31063045, 0.30928666, 0.3007662 ,\n",
       "       0.29939817, 0.29851636, 0.29614103, 0.27696655, 0.26484947,\n",
       "       0.25483926, 0.25435104, 0.23962339, 0.23864933, 0.23725817,\n",
       "       0.23295755, 0.23093511, 0.23062148, 0.2274648 , 0.22471599,\n",
       "       0.22362913, 0.21998453, 0.21860798, 0.21055641, 0.20842039,\n",
       "       0.20546518, 0.20533821, 0.20318986, 0.18730257, 0.18716299,\n",
       "       0.18483127, 0.17383063, 0.17184827, 0.17172495, 0.17055351])"
      ]
     },
     "execution_count": 663,
     "metadata": {},
     "output_type": "execute_result"
    }
   ],
   "source": [
    "df_cons_abun_prod_avg[id_metabs_selected]"
   ]
  },
  {
   "cell_type": "code",
   "execution_count": 648,
   "id": "c1a79618",
   "metadata": {},
   "outputs": [
    {
     "data": {
      "text/plain": [
       "0.9687575690337655"
      ]
     },
     "execution_count": 648,
     "metadata": {},
     "output_type": "execute_result"
    }
   ],
   "source": [
    "np.sum(coeff_train[0][passages_[5]][0])"
   ]
  },
  {
   "cell_type": "code",
   "execution_count": 612,
   "id": "56adbb7c",
   "metadata": {},
   "outputs": [
    {
     "data": {
      "text/plain": [
       "0     26.039026\n",
       "1     34.321313\n",
       "2     42.555862\n",
       "3     25.771546\n",
       "4     36.437318\n",
       "        ...    \n",
       "58    32.443821\n",
       "59    18.380789\n",
       "60    25.073785\n",
       "61    31.250101\n",
       "62    19.776057\n",
       "Length: 63, dtype: float64"
      ]
     },
     "execution_count": 612,
     "metadata": {},
     "output_type": "execute_result"
    }
   ],
   "source": [
    "df_speciesMetab.sum(axis=1)"
   ]
  },
  {
   "cell_type": "code",
   "execution_count": 583,
   "id": "2d6e3f60",
   "metadata": {},
   "outputs": [
    {
     "data": {
      "text/plain": [
       "array([[ 0.        ,  2.91807223,  0.        , ...,  0.20744929,\n",
       "         0.        ,  0.        ],\n",
       "       [ 0.        ,  2.90328985,  0.        , ...,  0.        ,\n",
       "         0.        ,  0.        ],\n",
       "       [ 0.        ,  0.        ,  0.        , ...,  0.        ,\n",
       "        11.60345945,  0.        ],\n",
       "       ...,\n",
       "       [ 0.        ,  0.        ,  0.        , ...,  2.7578356 ,\n",
       "         0.        ,  0.        ],\n",
       "       [ 0.        ,  0.47872036, 56.30309798, ...,  2.36305872,\n",
       "         2.66767945,  0.        ],\n",
       "       [ 0.        ,  0.        ,  0.        , ...,  0.        ,\n",
       "         0.        ,  0.        ]])"
      ]
     },
     "execution_count": 583,
     "metadata": {},
     "output_type": "execute_result"
    }
   ],
   "source": [
    "mat_cons_abun_list[sample_]"
   ]
  },
  {
   "cell_type": "code",
   "execution_count": 606,
   "id": "293730a1",
   "metadata": {},
   "outputs": [
    {
     "name": "stdout",
     "output_type": "stream",
     "text": [
      "0.16801516045673315\n",
      "161    0.098481\n",
      "101    0.000000\n",
      "39     0.000000\n",
      "210    0.000000\n",
      "75     0.000000\n",
      "         ...   \n",
      "248    0.000000\n",
      "36     0.000000\n",
      "121    0.000000\n",
      "148    0.000000\n",
      "135    0.000000\n",
      "Name: 1, Length: 222, dtype: float64\n",
      "5.566837127467674\n"
     ]
    }
   ],
   "source": [
    "print(df_cons_abun_prod_avg[id_metabs_notSelected[0]])\n",
    "print(np.array(df_cons_abun_prod_avg[id_metabs_notSelected] / df_cons_abun_prod[0, id_metabs_notSelected]) * \n",
    "     df_speciesMetab.iloc[1, id_metabs_notSelected])\n",
    "print((np.array(df_cons_abun_prod_avg[id_metabs_notSelected] / df_cons_abun_prod[0, id_metabs_notSelected]) * \n",
    "     df_speciesMetab.iloc[1, id_metabs_notSelected]).sum())"
   ]
  },
  {
   "cell_type": "code",
   "execution_count": null,
   "id": "d7092ee1",
   "metadata": {},
   "outputs": [],
   "source": []
  },
  {
   "cell_type": "code",
   "execution_count": 664,
   "id": "2220403d",
   "metadata": {},
   "outputs": [],
   "source": [
    "# train nnls model when R_i is estimated for all the metabolites using the true order of species \n",
    "# abundances, but selecting top 70 R_i by the magnitude of average_over_k[sum_beta c^beta_i B^beta(k)].equal to  \n",
    "seed_ = 7363\n",
    "np.random.seed(seed_)\n",
    "passages_ = np.array(['p1', 'p2', 'p3', 'p4', 'p5', 'p6'])\n",
    "num_bioRep = 3\n",
    "num_rep_nnls = 1\n",
    "num_select_metabs = 70\n",
    "id_metabs_selected = id_metabs_sorted[range(num_select_metabs)]\n",
    "id_metabs_notSelected = id_metabs_sorted[range(num_select_metabs + 1, num_metabs)]\n",
    "\n",
    "coeff_train = {}\n",
    "output_test = {}\n",
    "for rep_ in range(num_rep_nnls):\n",
    "    coeff_train[rep_] = {}\n",
    "    output_test[rep_] = {}\n",
    "    \n",
    "    passages_ = np.random.permutation(passages_)\n",
    "    for pass_ in passages_:\n",
    "    #     training data\n",
    "        passages_train = np.array(list(set(passages_.tolist()).difference(set([pass_]))))\n",
    "        count_ = 0\n",
    "        for pass__ in passages_train:\n",
    "            samples_train = expand_passage_by_rep(passage_=pass__, num_bioRep=num_bioRep)\n",
    "            for sample_ in samples_train:\n",
    "#                 mat_cons_abun_tmp = mat_cons_abun_list[sample_].copy()\n",
    "                A_train_sample = mat_cons_abun_list[sample_][:, id_metabs_selected]\n",
    "                if count_ == 0:\n",
    "                    A_train = A_train_sample\n",
    "                    count_ += 1\n",
    "                else:\n",
    "                    A_train = np.vstack((A_train, A_train_sample))         \n",
    "        b_train = np.ones((A_train.shape[0]))\n",
    "        coeff_train[rep_][pass_] = nnls(A_train, b_train) \n",
    "\n",
    "    #     test data\n",
    "        passages_test = np.array([pass_])\n",
    "        count_ = 0\n",
    "        for pass__ in passages_test:\n",
    "            samples_test = expand_passage_by_rep(passage_=pass__, num_bioRep=num_bioRep)\n",
    "            for sample_ in samples_test:\n",
    "                A_test_sample = mat_cons_abun_list[sample_][:, id_metabs_selected]\n",
    "                if count_ == 0:\n",
    "                    A_test = A_test_sample\n",
    "                    count_ += 1\n",
    "                else:\n",
    "                    A_test = np.vstack((A_test, A_test_sample))         \n",
    "        output_test[rep_][pass_] = np.dot(A_test, coeff_train[rep_][pass_][0])\n",
    "    "
   ]
  },
  {
   "cell_type": "code",
   "execution_count": 703,
   "id": "34872a91",
   "metadata": {},
   "outputs": [],
   "source": [
    "for fold_ in range(nfold):\n",
    "    train_strain_id = []\n",
    "    for species_ in species_perFold[fold_][\"train\"]:\n",
    "        train_strain_id += species_names_to_strainID[species_names[species_]]\n",
    "    test_strain_id = []\n",
    "    for species_ in species_perFold[fold_][\"test\"]:\n",
    "        test_strain_id += species_names_to_strainID[species_names[species_]]"
   ]
  },
  {
   "cell_type": "code",
   "execution_count": 706,
   "id": "cb2017d4",
   "metadata": {},
   "outputs": [
    {
     "data": {
      "text/plain": [
       "(63, 292)"
      ]
     },
     "execution_count": 706,
     "metadata": {},
     "output_type": "execute_result"
    }
   ],
   "source": [
    "mat_cons_abun_list[sample_].shape"
   ]
  },
  {
   "cell_type": "code",
   "execution_count": 28,
   "id": "5d694e5a",
   "metadata": {},
   "outputs": [
    {
     "name": "stdout",
     "output_type": "stream",
     "text": [
      "repeat loop # = 0\n",
      "repeat loop # = 1\n",
      "repeat loop # = 2\n",
      "repeat loop # = 3\n",
      "repeat loop # = 4\n",
      "repeat loop # = 5\n",
      "repeat loop # = 6\n",
      "repeat loop # = 7\n",
      "repeat loop # = 8\n",
      "repeat loop # = 9\n"
     ]
    }
   ],
   "source": [
    "# train nnls model when R_i is estimated for all the metabolites using the true order of species \n",
    "# abundances with leave 10 species out\n",
    "seed_ = 7363\n",
    "np.random.seed(seed_)\n",
    "passages_ = np.array(['p1', 'p2', 'p3', 'p4', 'p5', 'p6'])\n",
    "num_bioRep = 3\n",
    "num_rep_nnls = 10\n",
    "\n",
    "nfold = 15\n",
    "num_perFold = np.floor(len(species_names) / nfold)\n",
    "\n",
    "coeff_train = {}\n",
    "output_test = {}\n",
    "test_strain_id_all = {} \n",
    "for rep_ in range(num_rep_nnls):\n",
    "    print(f'repeat loop # = {rep_}')\n",
    "    coeff_train[rep_] = {}\n",
    "    output_test[rep_] = {}\n",
    "    \n",
    "    passages_ = np.random.permutation(passages_)\n",
    "    folds_id = np.arange(len(species_names))\n",
    "    folds_id = np.random.permutation(folds_id)\n",
    "    species_perFold = {}\n",
    "    count_ = 0\n",
    "    for fold_ in range(nfold):\n",
    "        species_perFold[fold_] = {}\n",
    "        if fold_ != nfold - 1:\n",
    "            species_perFold[fold_][\"test\"] = \\\n",
    "                list(folds_id[np.arange(count_, count_ + num_perFold).astype('int')])\n",
    "\n",
    "        else:\n",
    "            species_perFold[fold_][\"test\"] = \\\n",
    "                list(folds_id[count_.astype(\"int\"):])\n",
    "        species_perFold[fold_][\"train\"] = \\\n",
    "            list(set(range(len(species_names))).difference(species_perFold[fold_][\"test\"]))\n",
    "        count_ += num_perFold\n",
    "    \n",
    "    test_strain_id_all[rep_] = {}\n",
    "    for fold_ in range(nfold):\n",
    "        train_strain_id = []\n",
    "        for species_ in species_perFold[fold_][\"train\"]:\n",
    "            train_strain_id += species_names_to_strainID[species_names[species_]]\n",
    "        test_strain_id = []\n",
    "        for species_ in species_perFold[fold_][\"test\"]:\n",
    "            test_strain_id += species_names_to_strainID[species_names[species_]]\n",
    "        test_strain_id_all[rep_][fold_] = test_strain_id\n",
    "            \n",
    "        passages_train = passages_\n",
    "        count_ = 0\n",
    "        for pass__ in passages_train:\n",
    "            samples_train = expand_passage_by_rep(passage_=pass__, num_bioRep=num_bioRep)\n",
    "            for sample_ in samples_train:\n",
    "                A_train_sample = mat_cons_abun_list[sample_][train_strain_id, :]\n",
    "                if count_ == 0:\n",
    "                    A_train = A_train_sample\n",
    "                    count_ += 1\n",
    "                else:\n",
    "                    A_train = np.vstack((A_train, A_train_sample))         \n",
    "        b_train = np.ones((A_train.shape[0]))\n",
    "        coeff_train[rep_][fold_] = nnls(A_train, b_train) \n",
    "        \n",
    "            #     test data\n",
    "        passages_test = passages_train\n",
    "        count_ = 0\n",
    "        for pass__ in passages_test:\n",
    "            samples_test = expand_passage_by_rep(passage_=pass__, num_bioRep=num_bioRep)\n",
    "            for sample_ in samples_test:\n",
    "                A_test_sample = mat_cons_abun_list[sample_][test_strain_id, :]\n",
    "                if count_ == 0:\n",
    "                    A_test = A_test_sample\n",
    "                    count_ += 1\n",
    "                else:\n",
    "                    A_test = np.vstack((A_test, A_test_sample))         \n",
    "        output_test[rep_][fold_] = np.dot(A_test, coeff_train[rep_][fold_][0])\n",
    "    "
   ]
  },
  {
   "cell_type": "code",
   "execution_count": null,
   "id": "321f522e",
   "metadata": {},
   "outputs": [],
   "source": [
    "sample_"
   ]
  },
  {
   "cell_type": "code",
   "execution_count": 29,
   "id": "4fd88aad",
   "metadata": {},
   "outputs": [],
   "source": [
    "output_test_species = {}\n",
    "for strain_ in range(num_species):\n",
    "    output_test_species[strain_] = []\n",
    "for rep_ in range(num_rep_nnls):\n",
    "    for fold_ in range(nfold):\n",
    "        count_ = 0\n",
    "        for strain_ in test_strain_id_all[rep_][fold_]:\n",
    "            output_test_species[strain_] += \\\n",
    "                list(output_test[rep_][fold_][count_:(count_ + len(passages_) * num_bioRep)])\n",
    "            count_ += len(passages_) * num_bioRep\n",
    "\n",
    "        "
   ]
  },
  {
   "cell_type": "code",
   "execution_count": 30,
   "id": "9743740c",
   "metadata": {},
   "outputs": [],
   "source": [
    "species_vec = []\n",
    "output_species_vec = []\n",
    "for strain_ in range(num_species):\n",
    "    output_species_vec += output_test_species[strain_]\n",
    "    species_vec += [df_speciesNames.iloc[strain_, 0]] * len(output_test_species[strain_])"
   ]
  },
  {
   "cell_type": "code",
   "execution_count": 32,
   "id": "9f6d9a64",
   "metadata": {},
   "outputs": [
    {
     "name": "stderr",
     "output_type": "stream",
     "text": [
      "/tmp/ipykernel_155982/3320953647.py:7: UserWarning: FixedFormatter should only be used together with FixedLocator\n",
      "  graph_.set_yticklabels(graph_.get_yticklabels(), size=20)\n"
     ]
    },
    {
     "data": {
      "image/png": "[encoded data removed]",
      "text/plain": [
       "<Figure size 2160x2160 with 1 Axes>"
      ]
     },
     "metadata": {
      "needs_background": "light"
     },
     "output_type": "display_data"
    }
   ],
   "source": [
    "mpl.rcParams['figure.figsize'] = 30, 30\n",
    "df_output = pd.DataFrame(data={\"strain\" : species_vec, \"output\" : output_species_vec})\n",
    "graph_ = sns.barplot(data=df_output, x=\"strain\", y=\"output\", errorbar=\"sd\", errwidth=0.8)\n",
    "graph_.axhline(1.00, color=\"black\")\n",
    "graph_.set_ylabel(\"output (test)\", size = 20)\n",
    "graph_.set_xlabel(None)\n",
    "graph_.set_yticklabels(graph_.get_yticklabels(), size=20)\n",
    "graph_.set_xticklabels(list(df_output['strain'].unique()), rotation=90, size = 20)\n",
    "save_dir = os.path.abspath(os.path.join(os.getcwd(), '..', 'figures'))\n",
    "save_file = os.path.abspath(os.path.join(save_dir, \n",
    "                                         f'prediction_vs_fold_test_strain_nFold{nfold}_new.png'))\n",
    "plt.tight_layout()\n",
    "plt.savefig(save_file, dpi=300, transparent=False, facecolor=\"white\")\n",
    "# sns.barplot(data=df_output, x=\"passage#\", y=\"output\", e)"
   ]
  },
  {
   "cell_type": "code",
   "execution_count": 730,
   "id": "d5131585",
   "metadata": {},
   "outputs": [],
   "source": [
    "fold_vec = []\n",
    "output_vec = []\n",
    "coeff_nnz_vec = []\n",
    "for fold_ in range(nfold):\n",
    "    output_vec += list(output_test[rep_][fold_])\n",
    "    fold_vec += [fold_] * len(output_test[rep_][fold_])\n",
    "    coeff_nnz_vec.append(len(np.where(coeff_train[rep_][fold_][0] != 0)[0]))\n",
    "    \n",
    "df_output = pd.DataFrame(data={'fold' : fold_vec, 'output' : output_vec})"
   ]
  },
  {
   "cell_type": "code",
   "execution_count": 731,
   "id": "34b4e8e0",
   "metadata": {},
   "outputs": [
    {
     "name": "stdout",
     "output_type": "stream",
     "text": [
      "[0 1 2 3 4]\n"
     ]
    }
   ],
   "source": [
    "folds_sorted = np.arange(5)\n",
    "folds_sorted.sort()\n",
    "print(folds_sorted)"
   ]
  },
  {
   "cell_type": "code",
   "execution_count": 734,
   "id": "0562511d",
   "metadata": {},
   "outputs": [
    {
     "data": {
      "image/png": "[encoded data removed]",
      "text/plain": [
       "<Figure size 432x288 with 1 Axes>"
      ]
     },
     "metadata": {
      "needs_background": "light"
     },
     "output_type": "display_data"
    }
   ],
   "source": [
    "graph_ = sns.barplot(data=df_output, x=\"fold\", y=\"output\", errorbar=\"sd\", \n",
    "           order=folds_sorted)\n",
    "graph_.axhline(1.00, color=\"black\")\n",
    "graph_.set_ylabel(\"output (test)\")\n",
    "save_dir = os.path.abspath(os.path.join(os.getcwd(), '..', 'figures'))\n",
    "save_file = os.path.abspath(os.path.join(save_dir, 'prediction_vs_fold_test.png'))\n",
    "plt.savefig(save_file, dpi=300, transparent=False, facecolor=\"white\")\n",
    "# sns.barplot(data=df_output, x=\"passage#\", y=\"output\", e)"
   ]
  },
  {
   "cell_type": "code",
   "execution_count": 539,
   "id": "27d829d4",
   "metadata": {},
   "outputs": [
    {
     "name": "stdout",
     "output_type": "stream",
     "text": [
      "random loop # = 0\n",
      "random loop # = 1\n",
      "random loop # = 2\n",
      "random loop # = 3\n",
      "random loop # = 4\n",
      "random loop # = 5\n",
      "random loop # = 6\n",
      "random loop # = 7\n",
      "random loop # = 8\n",
      "random loop # = 9\n",
      "random loop # = 10\n",
      "random loop # = 11\n",
      "random loop # = 12\n",
      "random loop # = 13\n",
      "random loop # = 14\n",
      "random loop # = 15\n",
      "random loop # = 16\n",
      "random loop # = 17\n",
      "random loop # = 18\n",
      "random loop # = 19\n",
      "random loop # = 20\n",
      "random loop # = 21\n",
      "random loop # = 22\n",
      "random loop # = 23\n",
      "random loop # = 24\n",
      "random loop # = 25\n",
      "random loop # = 26\n",
      "random loop # = 27\n",
      "random loop # = 28\n",
      "random loop # = 29\n",
      "random loop # = 30\n",
      "random loop # = 31\n",
      "random loop # = 32\n",
      "random loop # = 33\n",
      "random loop # = 34\n",
      "random loop # = 35\n",
      "random loop # = 36\n",
      "random loop # = 37\n",
      "random loop # = 38\n",
      "random loop # = 39\n",
      "random loop # = 40\n",
      "random loop # = 41\n",
      "random loop # = 42\n",
      "random loop # = 43\n",
      "random loop # = 44\n",
      "random loop # = 45\n",
      "random loop # = 46\n",
      "random loop # = 47\n",
      "random loop # = 48\n",
      "random loop # = 49\n",
      "random loop # = 50\n",
      "random loop # = 51\n",
      "random loop # = 52\n",
      "random loop # = 53\n",
      "random loop # = 54\n",
      "random loop # = 55\n",
      "random loop # = 56\n",
      "random loop # = 57\n",
      "random loop # = 58\n",
      "random loop # = 59\n",
      "random loop # = 60\n",
      "random loop # = 61\n",
      "random loop # = 62\n",
      "random loop # = 63\n",
      "random loop # = 64\n",
      "random loop # = 65\n",
      "random loop # = 66\n",
      "random loop # = 67\n",
      "random loop # = 68\n",
      "random loop # = 69\n",
      "random loop # = 70\n",
      "random loop # = 71\n",
      "random loop # = 72\n",
      "random loop # = 73\n",
      "random loop # = 74\n",
      "random loop # = 75\n",
      "random loop # = 76\n",
      "random loop # = 77\n",
      "random loop # = 78\n",
      "random loop # = 79\n",
      "random loop # = 80\n",
      "random loop # = 81\n",
      "random loop # = 82\n",
      "random loop # = 83\n",
      "random loop # = 84\n",
      "random loop # = 85\n",
      "random loop # = 86\n",
      "random loop # = 87\n",
      "random loop # = 88\n",
      "random loop # = 89\n",
      "random loop # = 90\n",
      "random loop # = 91\n",
      "random loop # = 92\n",
      "random loop # = 93\n",
      "random loop # = 94\n",
      "random loop # = 95\n",
      "random loop # = 96\n",
      "random loop # = 97\n",
      "random loop # = 98\n",
      "random loop # = 99\n"
     ]
    }
   ],
   "source": [
    "# train nnls model when R_i is estimated for all the metabolites using a randomized order of species \n",
    "# abundances\n",
    "seed_ = 74546\n",
    "np.random.seed(seed_)\n",
    "passages_ = np.array(['p1', 'p2', 'p3', 'p4', 'p5', 'p6'])\n",
    "num_bioRep = 3\n",
    "num_rep_nnls = 100\n",
    "\n",
    "coeff_rand_train = {}\n",
    "output_rand_test = {}\n",
    "for rep_ in range(num_rep_nnls):\n",
    "    print(f'random loop # = {rep_}')\n",
    "    id_rand = np.arange(df_speciesAbun.shape[0])\n",
    "    id_rand = np.random.permutation(id_rand)\n",
    "    \n",
    "    df_cons_abun_prod_rand = compute_cons_abun_prod(df_speciesMetab=df_speciesMetab.copy(), \n",
    "                                       df_speciesAbun=df_speciesAbun.iloc[id_rand, :].copy())\n",
    "    sample_names, mat_cons_abun_rand_list = \\\n",
    "    compute_species_metab_matrix_for_nnls(df_cons_abun_prod=df_cons_abun_prod_rand, \n",
    "                                          df_speciesMetab=df_speciesMetab, \n",
    "                                          num_passages=6, num_bioRep=3)\n",
    "    \n",
    "    coeff_rand_train[rep_] = {}\n",
    "    output_rand_test[rep_] = {}\n",
    "    \n",
    "    passages_ = np.random.permutation(passages_)\n",
    "    for pass_ in passages_:\n",
    "    #     training data\n",
    "        passages_train = np.array(list(set(passages_.tolist()).difference(set([pass_]))))\n",
    "        count_ = 0\n",
    "        for pass__ in passages_train:\n",
    "            samples_train = expand_passage_by_rep(passage_=pass__, num_bioRep=num_bioRep)\n",
    "            for sample_ in samples_train:\n",
    "                A_train_sample = mat_cons_abun_rand_list[sample_]\n",
    "                if count_ == 0:\n",
    "                    A_train = A_train_sample\n",
    "                    count_ += 1\n",
    "                else:\n",
    "                    A_train = np.vstack((A_train, A_train_sample))         \n",
    "        b_train = np.ones((A_train.shape[0]))\n",
    "        coeff_rand_train[rep_][pass_] = nnls(A_train, b_train) \n",
    "\n",
    "    #     test data\n",
    "        passages_test = np.array([pass_])\n",
    "        count_ = 0\n",
    "        for pass__ in passages_test:\n",
    "            samples_test = expand_passage_by_rep(passage_=pass__, num_bioRep=num_bioRep)\n",
    "            for sample_ in samples_test:\n",
    "                A_test_sample = mat_cons_abun_rand_list[sample_]\n",
    "                if count_ == 0:\n",
    "                    A_test = A_test_sample\n",
    "                    count_ += 1\n",
    "                else:\n",
    "                    A_test = np.vstack((A_test, A_test_sample))         \n",
    "        output_rand_test[rep_][pass_] = np.dot(A_test, coeff_rand_train[rep_][pass_][0])\n",
    "    "
   ]
  },
  {
   "cell_type": "code",
   "execution_count": 552,
   "id": "331bf277",
   "metadata": {},
   "outputs": [
    {
     "name": "stdout",
     "output_type": "stream",
     "text": [
      "[1.06637259 0.98767055 1.04453169 1.02552396 0.90963507 0.94985532\n",
      " 0.95120818 1.13454033 0.96345329 1.08442883 1.06719909 1.11591284\n",
      " 1.04567554 1.13008164 0.90821652 1.03124111 1.10018924 1.05646272\n",
      " 1.14302344 1.04541681 1.04776809 1.29170888 1.01640043 1.03721227\n",
      " 1.02075255 1.09456307 1.06504555 1.07336001 0.97439453 1.09632896\n",
      " 0.76904611 1.04418225 0.97561604 1.13487746 0.88648618 0.84061261\n",
      " 1.10022525 0.89659432 0.96558384 0.87312902 1.00581021 0.88145107\n",
      " 1.08715871 0.96364931 1.20982539 1.02727283 1.07666627 1.09636071\n",
      " 1.01028454 1.0215458  0.91470029 0.95294017 1.02146265 0.81585233\n",
      " 0.84578408 1.05808542 1.06982594 0.86782817 0.98417227 0.67165021\n",
      " 1.05632372 1.11536535 0.99538508 0.94397955 1.21084948 1.0735738\n",
      " 0.96871891 0.96747641 0.91423013 0.92231236 1.08815928 0.91755015\n",
      " 1.08349834 0.9421613  1.04981947 0.98975676 1.02887301 1.07761927\n",
      " 0.98425136 1.00834305 1.00878269 0.89601707 1.03310223 0.9578972\n",
      " 1.1685887  1.10109857 1.06782008 0.99170905 0.97600061 0.82689412\n",
      " 0.99203605 0.90840528 0.95313606 0.82379536 0.95240249 0.95448169\n",
      " 1.00697752 0.85774415 0.96866297 0.88718543 0.95430246 0.95053976\n",
      " 0.81299991 0.86067411 0.92561447 0.96556975 0.87980047 1.05158048\n",
      " 1.04497239 1.07586122 1.02829823 0.9169334  0.91680631 0.91214827\n",
      " 0.97455256 1.01970791 0.83962753 0.99482333 0.88537152 1.12139419\n",
      " 0.92097193 1.02273343 1.00988279 0.95434382 0.96472849 0.93681432\n",
      " 1.0625253  1.1138858  1.07026354 1.00164991 0.86054042 0.92401713\n",
      " 0.91259192 1.08911868 1.04302371 1.02938584 1.14116668 1.03935594\n",
      " 0.98197864 1.04797639 1.13444176 0.96265551 1.04122058 1.01853131\n",
      " 1.24375492 1.00841674 0.98694291 1.25070998 1.00012705 0.98382101\n",
      " 0.97583172 1.03685432 1.0304467  1.10416932 0.94507436 1.08628623\n",
      " 0.97323962 1.05667384 0.96944348 1.14905625 0.88473895 1.08833253\n",
      " 1.02262736 0.92205368 0.96162575 0.91220914 1.10195842 0.93557481\n",
      " 1.08174397 0.93841275 1.13859857 1.03535712 1.08904244 1.09033589\n",
      " 1.05677965 1.01399636 0.94365773 0.95238278 0.98112698 0.7643819\n",
      " 0.80195968 1.16025648 1.34249289 1.03092936 0.9342972  0.86900563\n",
      " 1.03180717 1.14325082 1.11720368]\n",
      "[0.83931162 1.11861512 1.11608269 1.07722495 0.77176693 0.98813966\n",
      " 0.67684327 0.86305582 1.13329195 1.00676045 1.02015491 0.91145271\n",
      " 0.84791011 0.86128598 0.96280184 0.91922361 0.82465802 0.84924118\n",
      " 0.94679927 0.85862695 0.77387616 1.01295101 1.16277966 1.09638494\n",
      " 0.79872318 1.00053091 0.8851408  1.18375352 1.01935485 1.01742621\n",
      " 0.69659969 0.88551142 1.06204004 1.17879362 0.98143566 0.87098261\n",
      " 1.08936982 0.98365113 0.9896747  1.06502235 0.867037   0.90667495\n",
      " 1.02156389 0.98428078 1.08674165 1.11611728 1.16689192 1.04903324\n",
      " 0.84023788 0.97378665 0.90172004 1.12229328 1.0875942  0.85598491\n",
      " 0.97478272 1.00835328 1.10858737 0.78143307 1.07880674 0.87230656\n",
      " 1.00680219 0.84162852 0.71062231 1.28393701 1.196738   0.93808205\n",
      " 1.09638115 0.95478806 0.95906226 0.93069563 1.11749048 1.01594918\n",
      " 1.0696629  0.99899213 1.19061859 1.092497   1.1497916  1.16321386\n",
      " 1.22663516 1.12047965 1.13476563 0.9675798  1.13816021 1.02361939\n",
      " 1.28201828 1.06261452 0.94094658 1.08162674 0.94863314 0.96168494\n",
      " 0.95467102 0.88775104 1.02838213 0.51737138 1.16130506 0.7213902\n",
      " 1.0222509  0.72770071 1.19513143 0.98919401 0.89402471 1.00712366\n",
      " 0.95741059 1.06731304 0.8572778  0.92064295 0.79889736 0.98449048\n",
      " 0.97529129 0.98850483 0.88313639 0.76469328 0.82111496 0.9707953\n",
      " 0.79587897 1.01191171 0.99474787 1.33599096 0.82856344 1.15430733\n",
      " 0.82685489 1.07027734 1.13198585 0.77222303 0.93697928 0.84070184\n",
      " 1.0078862  1.04443072 1.0752692  1.08516003 0.94959294 0.99637985\n",
      " 0.83862191 1.08836023 0.72125211 1.05262684 0.94343739 1.08675953\n",
      " 1.01959224 1.09377646 1.0346367  1.13019644 1.07189674 1.14039489\n",
      " 1.03901734 1.10612462 0.98384479 1.10184474 1.07284246 1.07190047\n",
      " 1.01600117 0.94031723 0.85704585 0.94978727 0.93821759 0.84168674\n",
      " 0.92338781 1.18695346 1.00112385 0.96877044 0.91104513 0.88348445\n",
      " 0.88489274 0.95072063 0.94477904 0.85100431 1.0560404  0.92848842\n",
      " 1.01769091 0.9059363  1.01268144 1.07714151 1.10004241 1.01156243\n",
      " 1.02694267 0.99102168 0.99695795 0.94953182 1.04073243 0.93407364\n",
      " 1.25769279 1.03783546 1.06248947 1.04014174 1.10905366 1.09367009\n",
      " 0.87457806 1.15495522 1.08834856]\n"
     ]
    }
   ],
   "source": [
    "print(output_rand_test[10][passages_[0]])\n",
    "print(output_test[0][pass_])"
   ]
  },
  {
   "cell_type": "code",
   "execution_count": 540,
   "id": "a470c74e",
   "metadata": {},
   "outputs": [],
   "source": [
    "pass_rand_vec = []\n",
    "output_rand_vec = []\n",
    "coeff_nnz_rand_vec = []\n",
    "for rep_ in range(num_rep_nnls):\n",
    "    for pass_ in passages_:\n",
    "        output_rand_vec += list(output_rand_test[rep_][pass_])\n",
    "        pass_rand_vec += [pass_] * len(output_rand_test[rep_][pass_])\n",
    "        coeff_nnz_rand_vec.append(len(np.where(coeff_rand_train[rep_][pass_][0] != 0)[0]))\n",
    "    \n",
    "df_output = pd.DataFrame(data={'passage#' : pass_rand_vec, 'output' : output_rand_vec})"
   ]
  },
  {
   "cell_type": "code",
   "execution_count": 542,
   "id": "241c8630",
   "metadata": {},
   "outputs": [
    {
     "name": "stdout",
     "output_type": "stream",
     "text": [
      "['p1' 'p2' 'p3' 'p4' 'p5' 'p6']\n"
     ]
    }
   ],
   "source": [
    "passages_sorted = np.copy(passages_)\n",
    "passages_sorted.sort()\n",
    "print(passages_sorted)"
   ]
  },
  {
   "cell_type": "code",
   "execution_count": null,
   "id": "67dd7d05",
   "metadata": {},
   "outputs": [],
   "source": []
  },
  {
   "cell_type": "code",
   "execution_count": 269,
   "id": "6419d472",
   "metadata": {},
   "outputs": [
    {
     "name": "stdout",
     "output_type": "stream",
     "text": [
      "(0.10615949353500492, 0.14597919251592534)\n"
     ]
    }
   ],
   "source": [
    "x = list(df_output[df_output['passage#'] == \"p1\"].loc[:, 'output'])\n",
    "y = list(df_output[df_output['passage#'] == \"p2\"].loc[:, 'output'])\n",
    "corr_ = scipy.stats.pearsonr(x, y)\n",
    "print(corr_)"
   ]
  },
  {
   "cell_type": "code",
   "execution_count": 556,
   "id": "ca322435",
   "metadata": {},
   "outputs": [
    {
     "data": {
      "text/plain": [
       "156.25550567008744"
      ]
     },
     "execution_count": 556,
     "metadata": {},
     "output_type": "execute_result"
    }
   ],
   "source": [
    "np.max(df_output[df_output['passage#'] == \"p2\"].iloc[:, 1].values)"
   ]
  },
  {
   "cell_type": "code",
   "execution_count": 543,
   "id": "e4f0564d",
   "metadata": {},
   "outputs": [
    {
     "data": {
      "image/png": "[encoded data removed]",
      "text/plain": [
       "<Figure size 432x288 with 1 Axes>"
      ]
     },
     "metadata": {
      "needs_background": "light"
     },
     "output_type": "display_data"
    }
   ],
   "source": [
    "graph_ = sns.barplot(data=df_output, x=\"passage#\", y=\"output\", errorbar=\"sd\", \n",
    "           order=passages_sorted)\n",
    "graph_.axhline(1.00, color=\"black\")\n",
    "graph_.set_ylabel(\"output (test)\")\n",
    "save_dir = os.path.abspath(os.path.join(os.getcwd(), '..', 'figures'))\n",
    "save_file = os.path.abspath(os.path.join(save_dir, 'prediction_vs_passage#_rand_test.png'))\n",
    "plt.savefig(save_file, dpi=300, transparent=False, facecolor=\"white\")\n",
    "# sns.barplot(data=df_output, x=\"passage#\", y=\"output\", e)"
   ]
  },
  {
   "cell_type": "code",
   "execution_count": null,
   "id": "56aef3b7",
   "metadata": {},
   "outputs": [],
   "source": []
  },
  {
   "cell_type": "code",
   "execution_count": 181,
   "id": "8e867c72",
   "metadata": {},
   "outputs": [],
   "source": [
    "data_dict = {}\n",
    "for pass_ in passages_sorted:\n",
    "    count_ = 0\n",
    "    for rep_ in range(num_bioRep):\n",
    "        id_row = np.arange(rep_ * num_species, (rep_ + 1) * num_species)\n",
    "        vals_rep_tmp = list(df_output[df_output['passage#'] == pass_].iloc[id_row, 1])\n",
    "        if count_ == 0:\n",
    "            vals_rep = np.array(vals_rep_tmp)\n",
    "            count_ += 1\n",
    "        else:\n",
    "            vals_rep += np.array(vals_rep_tmp)\n",
    "    data_dict[pass_] = list(vals_rep / 3)\n",
    "#     data_dict[pass_] = list(df_output[df_output['passage#'] == pass_].loc[:, 'output'])\n",
    "df_output_by_passage = pd.DataFrame(data=data_dict)"
   ]
  },
  {
   "cell_type": "code",
   "execution_count": 182,
   "id": "d87e037a",
   "metadata": {},
   "outputs": [
    {
     "data": {
      "text/html": [
       "<div>\n",
       "<style scoped>\n",
       "    .dataframe tbody tr th:only-of-type {\n",
       "        vertical-align: middle;\n",
       "    }\n",
       "\n",
       "    .dataframe tbody tr th {\n",
       "        vertical-align: top;\n",
       "    }\n",
       "\n",
       "    .dataframe thead th {\n",
       "        text-align: right;\n",
       "    }\n",
       "</style>\n",
       "<table border=\"1\" class=\"dataframe\">\n",
       "  <thead>\n",
       "    <tr style=\"text-align: right;\">\n",
       "      <th></th>\n",
       "      <th>p1</th>\n",
       "      <th>p2</th>\n",
       "      <th>p3</th>\n",
       "      <th>p4</th>\n",
       "      <th>p5</th>\n",
       "      <th>p6</th>\n",
       "    </tr>\n",
       "  </thead>\n",
       "  <tbody>\n",
       "    <tr>\n",
       "      <th>0</th>\n",
       "      <td>1.016685</td>\n",
       "      <td>0.955654</td>\n",
       "      <td>1.043712</td>\n",
       "      <td>0.847241</td>\n",
       "      <td>1.043638</td>\n",
       "      <td>0.921340</td>\n",
       "    </tr>\n",
       "    <tr>\n",
       "      <th>1</th>\n",
       "      <td>1.062812</td>\n",
       "      <td>1.009769</td>\n",
       "      <td>1.119928</td>\n",
       "      <td>0.998143</td>\n",
       "      <td>1.103196</td>\n",
       "      <td>0.983538</td>\n",
       "    </tr>\n",
       "    <tr>\n",
       "      <th>2</th>\n",
       "      <td>0.959336</td>\n",
       "      <td>1.134456</td>\n",
       "      <td>1.043145</td>\n",
       "      <td>1.213049</td>\n",
       "      <td>1.050147</td>\n",
       "      <td>1.148546</td>\n",
       "    </tr>\n",
       "    <tr>\n",
       "      <th>3</th>\n",
       "      <td>1.029361</td>\n",
       "      <td>1.081851</td>\n",
       "      <td>1.086255</td>\n",
       "      <td>1.066146</td>\n",
       "      <td>1.106267</td>\n",
       "      <td>1.040860</td>\n",
       "    </tr>\n",
       "    <tr>\n",
       "      <th>4</th>\n",
       "      <td>0.923042</td>\n",
       "      <td>0.914586</td>\n",
       "      <td>0.892049</td>\n",
       "      <td>0.853344</td>\n",
       "      <td>0.858656</td>\n",
       "      <td>0.953454</td>\n",
       "    </tr>\n",
       "    <tr>\n",
       "      <th>...</th>\n",
       "      <td>...</td>\n",
       "      <td>...</td>\n",
       "      <td>...</td>\n",
       "      <td>...</td>\n",
       "      <td>...</td>\n",
       "      <td>...</td>\n",
       "    </tr>\n",
       "    <tr>\n",
       "      <th>58</th>\n",
       "      <td>1.045751</td>\n",
       "      <td>1.069033</td>\n",
       "      <td>1.086046</td>\n",
       "      <td>1.056492</td>\n",
       "      <td>1.070376</td>\n",
       "      <td>1.098973</td>\n",
       "    </tr>\n",
       "    <tr>\n",
       "      <th>59</th>\n",
       "      <td>0.880277</td>\n",
       "      <td>0.970154</td>\n",
       "      <td>1.032654</td>\n",
       "      <td>0.960293</td>\n",
       "      <td>0.852255</td>\n",
       "      <td>0.831911</td>\n",
       "    </tr>\n",
       "    <tr>\n",
       "      <th>60</th>\n",
       "      <td>1.049946</td>\n",
       "      <td>1.044055</td>\n",
       "      <td>0.884534</td>\n",
       "      <td>1.043745</td>\n",
       "      <td>0.842282</td>\n",
       "      <td>0.978207</td>\n",
       "    </tr>\n",
       "    <tr>\n",
       "      <th>61</th>\n",
       "      <td>1.036907</td>\n",
       "      <td>1.005123</td>\n",
       "      <td>0.977854</td>\n",
       "      <td>0.879896</td>\n",
       "      <td>0.913702</td>\n",
       "      <td>1.108300</td>\n",
       "    </tr>\n",
       "    <tr>\n",
       "      <th>62</th>\n",
       "      <td>0.908864</td>\n",
       "      <td>0.975095</td>\n",
       "      <td>0.879891</td>\n",
       "      <td>0.853357</td>\n",
       "      <td>0.788732</td>\n",
       "      <td>1.064974</td>\n",
       "    </tr>\n",
       "  </tbody>\n",
       "</table>\n",
       "<p>63 rows × 6 columns</p>\n",
       "</div>"
      ],
      "text/plain": [
       "          p1        p2        p3        p4        p5        p6\n",
       "0   1.016685  0.955654  1.043712  0.847241  1.043638  0.921340\n",
       "1   1.062812  1.009769  1.119928  0.998143  1.103196  0.983538\n",
       "2   0.959336  1.134456  1.043145  1.213049  1.050147  1.148546\n",
       "3   1.029361  1.081851  1.086255  1.066146  1.106267  1.040860\n",
       "4   0.923042  0.914586  0.892049  0.853344  0.858656  0.953454\n",
       "..       ...       ...       ...       ...       ...       ...\n",
       "58  1.045751  1.069033  1.086046  1.056492  1.070376  1.098973\n",
       "59  0.880277  0.970154  1.032654  0.960293  0.852255  0.831911\n",
       "60  1.049946  1.044055  0.884534  1.043745  0.842282  0.978207\n",
       "61  1.036907  1.005123  0.977854  0.879896  0.913702  1.108300\n",
       "62  0.908864  0.975095  0.879891  0.853357  0.788732  1.064974\n",
       "\n",
       "[63 rows x 6 columns]"
      ]
     },
     "execution_count": 182,
     "metadata": {},
     "output_type": "execute_result"
    }
   ],
   "source": [
    "df_output_by_passage"
   ]
  },
  {
   "cell_type": "code",
   "execution_count": 190,
   "id": "038e01c3",
   "metadata": {},
   "outputs": [
    {
     "data": {
      "image/png": "[encoded data removed]",
      "text/plain": [
       "<Figure size 1080x1080 with 42 Axes>"
      ]
     },
     "metadata": {
      "needs_background": "light"
     },
     "output_type": "display_data"
    }
   ],
   "source": [
    "# cormat = df_output_by_passage.corr()\n",
    "# round(cormat,2)\n",
    "g_plt = sns.pairplot(df_output_by_passage)\n",
    "g_plt.map_offdiag(sns.kdeplot, fill=True, cmap=\"Blues\")\n",
    "g_plt.map_lower(corrfunc)\n",
    "# g_plt.map_diag(sns.histplot, bins=10)\n",
    "\n",
    "save_dir = os.path.abspath(os.path.join(os.getcwd(), '..', 'figures'))\n",
    "save_file = os.path.abspath(os.path.join(save_dir, 'corrScatter_prediction_vs_passage#_test.png'))\n",
    "g_plt.figure.savefig(save_file, dpi=300, transparent=False, facecolor=\"white\")"
   ]
  },
  {
   "cell_type": "code",
   "execution_count": 830,
   "id": "e490f393",
   "metadata": {},
   "outputs": [],
   "source": [
    "rep_ = 0\n",
    "count_ = 0\n",
    "for pass_ in passages_:\n",
    "    if count_ == 0:\n",
    "        id_nnz = np.where(coeff_train[rep_][pass_][0] != 0)[0]\n",
    "        count_ += 1\n",
    "    else:\n",
    "        id_nnz_tmp = np.where(coeff_train[rep_][pass_][0] != 0)[0]\n",
    "        id_nnz = list(set(id_nnz_tmp).intersection(set(id_nnz)))"
   ]
  },
  {
   "cell_type": "code",
   "execution_count": 114,
   "id": "d88a9d98",
   "metadata": {},
   "outputs": [
    {
     "name": "stdout",
     "output_type": "stream",
     "text": [
      "   passage#  #nnz Metabolites                 type\n",
      "0        p1                76  individual passages\n",
      "1        p2                79  individual passages\n",
      "2        p3                82  individual passages\n",
      "3        p4                79  individual passages\n",
      "4        p5                81  individual passages\n",
      "5        p6                85  individual passages\n",
      "6        p1                65         intersection\n",
      "7        p2                65         intersection\n",
      "8        p3                65         intersection\n",
      "9        p4                65         intersection\n",
      "10       p5                65         intersection\n",
      "11       p6                65         intersection\n"
     ]
    },
    {
     "data": {
      "image/png": "[encoded data removed]",
      "text/plain": [
       "<Figure size 432x288 with 1 Axes>"
      ]
     },
     "metadata": {
      "needs_background": "light"
     },
     "output_type": "display_data"
    }
   ],
   "source": [
    "type_ = ['individual passages'] * len(passages_sorted) + ['intersection'] * len(passages_sorted)\n",
    "passages_vec = list(passages_sorted) + list(passages_sorted)\n",
    "coeff_nnz_vec_all = coeff_nnz_vec + [len(id_nnz)] * len(coeff_nnz_vec)\n",
    "df_nnz = pd.DataFrame(data={'passage#' : passages_vec, '#nnz Metabolites' : coeff_nnz_vec_all, \n",
    "                            'type' : type_})\n",
    "# sns.barplot(data=df_nnz, x=\"passage#\", y=\"#nnz Metabolites\", errorbar=None, \n",
    "#            order=passages_sorted)\n",
    "sns.scatterplot(data=df_nnz, x=\"passage#\", y=\"#nnz Metabolites\", hue='type')\n",
    "save_dir = os.path.abspath(os.path.join(os.getcwd(), '..', 'figures'))\n",
    "save_file = os.path.abspath(os.path.join(save_dir, 'nnz_metabs_vs_passage#.png'))\n",
    "plt.savefig(save_file, dpi=300, transparent=False, facecolor=\"white\")\n",
    "print(df_nnz)"
   ]
  },
  {
   "cell_type": "code",
   "execution_count": 96,
   "id": "656d77ed",
   "metadata": {},
   "outputs": [
    {
     "data": {
      "text/plain": [
       "[1,\n",
       " 257,\n",
       " 4,\n",
       " 5,\n",
       " 6,\n",
       " 7,\n",
       " 9,\n",
       " 140,\n",
       " 270,\n",
       " 143,\n",
       " 271,\n",
       " 145,\n",
       " 275,\n",
       " 277,\n",
       " 152,\n",
       " 25,\n",
       " 282,\n",
       " 154,\n",
       " 156,\n",
       " 158,\n",
       " 33,\n",
       " 291,\n",
       " 37,\n",
       " 166,\n",
       " 169,\n",
       " 45,\n",
       " 48,\n",
       " 50,\n",
       " 52,\n",
       " 53,\n",
       " 180,\n",
       " 55,\n",
       " 184,\n",
       " 57,\n",
       " 60,\n",
       " 190,\n",
       " 192,\n",
       " 65,\n",
       " 66,\n",
       " 195,\n",
       " 196,\n",
       " 70,\n",
       " 198,\n",
       " 201,\n",
       " 207,\n",
       " 81,\n",
       " 86,\n",
       " 217,\n",
       " 220,\n",
       " 98,\n",
       " 100,\n",
       " 230,\n",
       " 231,\n",
       " 232,\n",
       " 123,\n",
       " 237,\n",
       " 238,\n",
       " 112,\n",
       " 242,\n",
       " 115,\n",
       " 120,\n",
       " 251,\n",
       " 124,\n",
       " 125,\n",
       " 255]"
      ]
     },
     "execution_count": 96,
     "metadata": {},
     "output_type": "execute_result"
    }
   ],
   "source": [
    "id_nnz"
   ]
  },
  {
   "cell_type": "code",
   "execution_count": 83,
   "id": "46cbb055",
   "metadata": {},
   "outputs": [],
   "source": [
    "passa"
   ]
  },
  {
   "cell_type": "code",
   "execution_count": 84,
   "id": "5e931a22",
   "metadata": {},
   "outputs": [
    {
     "data": {
      "text/plain": [
       "65"
      ]
     },
     "execution_count": 84,
     "metadata": {},
     "output_type": "execute_result"
    }
   ],
   "source": [
    "len(id_nnz)"
   ]
  },
  {
   "cell_type": "code",
   "execution_count": 32,
   "id": "0c6ce7af",
   "metadata": {},
   "outputs": [
    {
     "data": {
      "text/plain": [
       "(0.9790714798916342, 1.491035663724924e-202)"
      ]
     },
     "execution_count": 32,
     "metadata": {},
     "output_type": "execute_result"
    }
   ],
   "source": [
    "scipy.stats.pearsonr(coeff_train[passages_[3]][0], coeff_train[passages_[5]][0])"
   ]
  },
  {
   "cell_type": "code",
   "execution_count": 110,
   "id": "7a342311",
   "metadata": {
    "scrolled": true
   },
   "outputs": [
    {
     "name": "stdout",
     "output_type": "stream",
     "text": [
      "76\n",
      "81\n"
     ]
    },
    {
     "data": {
      "text/plain": [
       "{13, 16, 121, 137, 147, 155, 206, 218, 236, 288}"
      ]
     },
     "execution_count": 110,
     "metadata": {},
     "output_type": "execute_result"
    }
   ],
   "source": [
    "print(len(np.where(output_[passages_[0]][0] != 0)[0]))\n",
    "print(len(np.where(output_[passages_[4]][0] != 0)[0]))\n",
    "\n",
    "set(np.where(output_[passages_[4]][0] != 0)[0]).difference(set(np.where(output_[passages_[0]][0] != 0)[0]))"
   ]
  },
  {
   "cell_type": "code",
   "execution_count": 209,
   "id": "cb60534f",
   "metadata": {},
   "outputs": [],
   "source": [
    "mean_cons_abun_prod = df_cons_abun_prod.mean(axis=0)\n",
    "id_metab_filter = np.argsort(-mean_cons_abun_prod)\n",
    "thresh_keep_metab = 65"
   ]
  },
  {
   "cell_type": "code",
   "execution_count": 213,
   "id": "22402880",
   "metadata": {},
   "outputs": [],
   "source": [
    "seed_ = 7363\n",
    "np.random.seed(seed_)\n",
    "passages_ = np.array(['p1', 'p2', 'p3', 'p4', 'p5', 'p6'])\n",
    "num_bioRep = 3\n",
    "num_rep_nnls = 1\n",
    "\n",
    "coeff_train_filter = {}\n",
    "output_test_filter = {}\n",
    "for rep_ in range(num_rep_nnls):\n",
    "    coeff_train_filter[rep_] = {}\n",
    "    output_test_filter[rep_] = {}\n",
    "    \n",
    "    passages_ = np.random.permutation(passages_)\n",
    "    for pass_ in passages_:\n",
    "    #     training data\n",
    "        passages_train = np.array(list(set(passages_.tolist()).difference(set([pass_]))))\n",
    "        count_ = 0\n",
    "        for pass__ in passages_train:\n",
    "            samples_train = expand_passage_by_rep(passage_=pass__, num_bioRep=num_bioRep)\n",
    "            for sample_ in samples_train:\n",
    "                A_train_sample = mat_cons_abun_list[sample_][:, id_metab_filter[range(thresh_keep_metab)]]\n",
    "                if count_ == 0:\n",
    "                    A_train = A_train_sample\n",
    "                    count_ += 1\n",
    "                else:\n",
    "                    A_train = np.vstack((A_train, A_train_sample))         \n",
    "        b_train = np.ones((A_train.shape[0]))\n",
    "        coeff_train_filter[rep_][pass_] = nnls(A_train, b_train) \n",
    "\n",
    "    #     test data\n",
    "        passages_test = np.array([pass_])\n",
    "        count_ = 0\n",
    "        for pass__ in passages_test:\n",
    "            samples_test = expand_passage_by_rep(passage_=pass__, num_bioRep=num_bioRep)\n",
    "            for sample_ in samples_test:\n",
    "                A_test_sample = mat_cons_abun_list[sample_][:, id_metab_filter[range(thresh_keep_metab)]]\n",
    "                if count_ == 0:\n",
    "                    A_test = A_test_sample\n",
    "                    count_ += 1\n",
    "                else:\n",
    "                    A_test = np.vstack((A_test, A_test_sample))         \n",
    "        output_test_filter[rep_][pass_] = np.dot(A_test, coeff_train_filter[rep_][pass_][0])\n",
    "    "
   ]
  },
  {
   "cell_type": "code",
   "execution_count": 266,
   "id": "ad5a571c",
   "metadata": {},
   "outputs": [
    {
     "name": "stdout",
     "output_type": "stream",
     "text": [
      "['VALINE', 'GLYCYL-GLYCINE', 'ORNITHINE', \"ADENOSINE 2',3'-CYCLIC MONOPHOSPHATE\", 'SERINE', 'ACETYL-CARNITINE', 'TARTARIC ACID', \"S-(5'-ADENOSYL)-L-HOMOCYSTEINE\", 'CHOLINE', 'IS_D15-OCTANOIC ACID', 'N-ACETYL-5-HYDROXYTRYPTAMINE', 'PANTOTHENIC ACID', 'LEUCINE', '2-HYDROXY-4-METHYLPENTANOIC ACID', 'INDOLE-3-ACETALDEHYDE', '4-GUANIDINOBUTANOIC ACID', 'MALONIC ACID', '2-AMINO-2-METHYLPROPANOIC ACID', \"CYTIDINE 2',3'-CYCLIC MONOPHOSPHATE\"]\n",
      "19\n"
     ]
    }
   ],
   "source": [
    "metabs_desc = list(df_metabNames.iloc[df_metabIds.iloc[id_metab_filter[range(65)], 0], 1])\n",
    "metabs_nnz = list(df_metabNames.iloc[df_metabIds.iloc[id_nnz, 0], 1])\n",
    "\n",
    "print(list(set(metabs_nnz).intersection(set(metabs_desc))))\n",
    "print(len(list(set(metabs_nnz).intersection(set(metabs_desc)))))"
   ]
  },
  {
   "cell_type": "code",
   "execution_count": 225,
   "id": "d4f5eed8",
   "metadata": {},
   "outputs": [
    {
     "name": "stdout",
     "output_type": "stream",
     "text": [
      "169.0\n"
     ]
    }
   ],
   "source": [
    "ranks_metabs = np.zeros((df_cons_abun_prod.shape[1]))\n",
    "ranks_metabs[id_metab_filter] = np.arange(df_cons_abun_prod.shape[1])\n",
    "print(np.median(ranks_metabs[id_nnz]))"
   ]
  },
  {
   "cell_type": "code",
   "execution_count": 226,
   "id": "43698716",
   "metadata": {},
   "outputs": [],
   "source": [
    "pass_vec = []\n",
    "output_vec = []\n",
    "coeff_nnz_vec = []\n",
    "for pass_ in passages_:\n",
    "    output_vec += list(output_test_filter[rep_][pass_])\n",
    "    pass_vec += [pass_] * len(output_test_filter[rep_][pass_])\n",
    "    coeff_nnz_vec.append(len(np.where(coeff_train_filter[rep_][pass_][0] != 0)[0]))\n",
    "    \n",
    "df_output_filter = pd.DataFrame(data={'passage#' : pass_vec, 'output' : output_vec})"
   ]
  },
  {
   "cell_type": "code",
   "execution_count": 227,
   "id": "ef89edba",
   "metadata": {},
   "outputs": [
    {
     "data": {
      "image/png": "[encoded data removed]",
      "text/plain": [
       "<Figure size 432x288 with 1 Axes>"
      ]
     },
     "metadata": {
      "needs_background": "light"
     },
     "output_type": "display_data"
    }
   ],
   "source": [
    "graph_ = sns.barplot(data=df_output_filter, x=\"passage#\", y=\"output\", errorbar=\"sd\", \n",
    "           order=passages_sorted)\n",
    "graph_.axhline(1.00, color=\"black\")\n",
    "graph_.set_ylabel(\"output (test)\")\n",
    "save_dir = os.path.abspath(os.path.join(os.getcwd(), '..', 'figures'))\n",
    "save_file = os.path.abspath(os.path.join(save_dir, 'prediction_vs_passage#_test.png'))\n",
    "plt.savefig(save_file, dpi=300, transparent=False, facecolor=\"white\")\n",
    "# sns.barplot(data=df_output, x=\"passage#\", y=\"output\", e)"
   ]
  },
  {
   "cell_type": "code",
   "execution_count": 228,
   "id": "43de776a",
   "metadata": {},
   "outputs": [],
   "source": [
    "rep_ = 0\n",
    "count_ = 0\n",
    "for pass_ in passages_:\n",
    "    if count_ == 0:\n",
    "        id_nnz_filter = np.where(coeff_train_filter[rep_][pass_][0] != 0)[0]\n",
    "        count_ += 1\n",
    "    else:\n",
    "        id_nnz_tmp = np.where(coeff_train_filter[rep_][pass_][0] != 0)[0]\n",
    "        id_nnz_filter = list(set(id_nnz_tmp).intersection(set(id_nnz)))"
   ]
  },
  {
   "cell_type": "code",
   "execution_count": 232,
   "id": "61db1d05",
   "metadata": {},
   "outputs": [
    {
     "name": "stdout",
     "output_type": "stream",
     "text": [
      "   passage#  #nnz Metabolites                 type\n",
      "0        p1                26  individual passages\n",
      "1        p2                27  individual passages\n",
      "2        p3                28  individual passages\n",
      "3        p4                28  individual passages\n",
      "4        p5                28  individual passages\n",
      "5        p6                27  individual passages\n",
      "6        p1                 9         intersection\n",
      "7        p2                 9         intersection\n",
      "8        p3                 9         intersection\n",
      "9        p4                 9         intersection\n",
      "10       p5                 9         intersection\n",
      "11       p6                 9         intersection\n"
     ]
    },
    {
     "data": {
      "image/png": "[encoded data removed]",
      "text/plain": [
       "<Figure size 432x288 with 1 Axes>"
      ]
     },
     "metadata": {
      "needs_background": "light"
     },
     "output_type": "display_data"
    }
   ],
   "source": [
    "type_ = ['individual passages'] * len(passages_sorted) + ['intersection'] * len(passages_sorted)\n",
    "passages_vec = list(passages_sorted) + list(passages_sorted)\n",
    "coeff_nnz_vec_all = coeff_nnz_vec + [len(id_nnz_filter)] * len(coeff_nnz_vec)\n",
    "df_nnz = pd.DataFrame(data={'passage#' : passages_vec, '#nnz Metabolites' : coeff_nnz_vec_all, \n",
    "                            'type' : type_})\n",
    "# sns.barplot(data=df_nnz, x=\"passage#\", y=\"#nnz Metabolites\", errorbar=None, \n",
    "#            order=passages_sorted)\n",
    "sns.scatterplot(data=df_nnz, x=\"passage#\", y=\"#nnz Metabolites\", hue='type')\n",
    "save_dir = os.path.abspath(os.path.join(os.getcwd(), '..', 'figures'))\n",
    "save_file = os.path.abspath(os.path.join(save_dir, 'nnz_metabs_vs_passage#.png'))\n",
    "plt.savefig(save_file, dpi=300, transparent=False, facecolor=\"white\")\n",
    "print(df_nnz)"
   ]
  },
  {
   "cell_type": "code",
   "execution_count": 251,
   "id": "5e532003",
   "metadata": {},
   "outputs": [
    {
     "name": "stdout",
     "output_type": "stream",
     "text": [
      "['VALINE', 'SUCROSE', 'IS_D19-DECANOIC ACID', 'TIGLYL GLYCINE', 'IS_4-CHLORO-PHENYLALANINE', '2-AMINO-2-METHYLPROPANOIC ACID', '2-HYDROXY-4-METHYLPENTANOIC ACID', '4-SULFOOXYBENZOIC ACID', 'IS_TRIDECANOIC ACID']\n",
      "9\n"
     ]
    }
   ],
   "source": [
    "id_pass = 2\n",
    "id_tmp = np.where(coeff_train_filter[rep_][passages_[id_pass]][0] != 0)[0]\n",
    "\n",
    "metabs_tmp = list(df_metabNames.iloc[df_metabIds.iloc[id_tmp, 0], 1])\n",
    "metabs_nnz = list(df_metabNames.iloc[df_metabIds.iloc[id_nnz, 0], 1])\n",
    "\n",
    "print(list(set(metabs_nnz).intersection(set(metabs_tmp))))\n",
    "print(len(list(set(metabs_nnz).intersection(set(metabs_tmp)))))"
   ]
  },
  {
   "cell_type": "code",
   "execution_count": 255,
   "id": "136402ac",
   "metadata": {
    "scrolled": false
   },
   "outputs": [
    {
     "data": {
      "text/plain": [
       "['GLYCEROL 2-PHOSPHATE',\n",
       " 'ACETYL-CARNITINE',\n",
       " \"ADENOSINE 2',3'-CYCLIC MONOPHOSPHATE\",\n",
       " 'ASPARTIC ACID',\n",
       " '4-AMINOBENZOIC ACID',\n",
       " 'TARTARIC ACID',\n",
       " 'GLYCYL-GLYCINE',\n",
       " 'GUANOSINE',\n",
       " 'N-ACETYL-5-HYDROXYTRYPTAMINE',\n",
       " 'LEUCINE',\n",
       " 'URIDINE-5-MONOPHOSPHATE',\n",
       " 'ASPARAGINE',\n",
       " 'N-ACETYLPUTRESCINE',\n",
       " 'CHOLINE',\n",
       " 'SN-GLYCERO-3-PHOSPHOCHOLINE',\n",
       " 'STEARIC ACID',\n",
       " '1-OLEOYL-RAC-GLYCEROL',\n",
       " 'GLUCONO-1,5-LACTONE',\n",
       " '4-ETHYLOCTANOIC ACID',\n",
       " 'METHYLMALONIC ACID',\n",
       " '2-ETHYL-2-HYDROXYBUTYRIC ACID',\n",
       " 'ISOVALERYLGLYCINE',\n",
       " 'BENZALDEHYDE',\n",
       " '1-METHYLGUANIDINE',\n",
       " 'VALINE',\n",
       " 'BETAINE',\n",
       " '4-GUANIDINOBUTANOIC ACID',\n",
       " '2-AMINO-2-METHYLPROPANOIC ACID',\n",
       " 'ADENOSINE',\n",
       " 'O-PHOSPHO-SERINE',\n",
       " \"GUANOSINE 3',5'-CYCLIC MONOPHOSPHATE\",\n",
       " 'ARABINOSE',\n",
       " 'URIDINE',\n",
       " '3-METHYL-2-OXINDOLE',\n",
       " '2-HYDROXY-4-METHYLPENTANOIC ACID',\n",
       " 'MALONIC ACID',\n",
       " 'GLUTAMINE',\n",
       " 'N-ACETYLGLYCINE',\n",
       " \"CYTIDINE 2',3'-CYCLIC MONOPHOSPHATE\",\n",
       " 'GLUCOSE',\n",
       " 'QUINIC ACID',\n",
       " 'THYMIDINE',\n",
       " 'INDOLE-3-ACETALDEHYDE',\n",
       " 'AGMATINE',\n",
       " 'VANILLIN',\n",
       " 'HISTIDINOL',\n",
       " 'CROTONIC ACID',\n",
       " 'PHENOLSULFONIC ACID',\n",
       " '3-HYDROXYGLUTARIC ACID',\n",
       " \"S-(5'-ADENOSYL)-L-HOMOCYSTEINE\",\n",
       " 'IS_D15-OCTANOIC ACID',\n",
       " '2-AMINOBENZOIC ACID',\n",
       " 'ALPHA-KETOGLUTARIC ACID',\n",
       " 'IS_PHENYLALANINE-2,3,4,5,6-D5',\n",
       " 'MELATONIN',\n",
       " 'PANTOTHENIC ACID',\n",
       " 'LUMICHROME',\n",
       " 'SERINE',\n",
       " 'N-ACETYL-GALACTOSAMINE',\n",
       " 'HEPTANOIC ACID',\n",
       " '2-DEOXY-GLUCOSE',\n",
       " '3-AMINO-4-HYDROXYBENZOIC ACID',\n",
       " 'PURINE',\n",
       " 'ORNITHINE',\n",
       " 'N-ACETYL-LEUCINE',\n",
       " 'ARGININE',\n",
       " 'ADENINE',\n",
       " 'CYTIDINE',\n",
       " 'PENTANEDECANOIC ACID',\n",
       " 'PYROGALLOL',\n",
       " '5-HYDROXYLYSINE',\n",
       " '3-METHOXY-4-HYDROXYMANDELIC ACID',\n",
       " 'RAC-GLYCEROL 1-MYRISTATE',\n",
       " \"GUANOSINE 5'-MONOPHOSPHATE\",\n",
       " '2-HYDROXY-4-METHYLPENTANOIC ACID',\n",
       " 'GLUCURONIC ACID',\n",
       " 'HOMOSERINE',\n",
       " 'N,N-DIMETHYLGLYCINE',\n",
       " 'IS_CARNITINE-TRIMETHYL-D9',\n",
       " 'N-ACETYL-GLUTAMIC ACID',\n",
       " 'IS_D27-TETRADECANOIC ACID',\n",
       " '5-HYDROXYMETHYLURACIL',\n",
       " 'IS_DI-N-OCTYL PHTHALATE-3,4,5,6-D4',\n",
       " 'IS_LEUCINE-5,5,5-D3',\n",
       " 'IS_PROGESTERONE-D9',\n",
       " 'GLUCURONOLACTONE',\n",
       " 'N-METHYL-ASPARTIC ACID',\n",
       " '2-AMINOPHENOL',\n",
       " 'SPHINGANINE',\n",
       " 'CINNAMIC ACID',\n",
       " 'SUBERYL GLYCINE',\n",
       " 'CYTOSINE',\n",
       " 'DIACETYL',\n",
       " '3-HYDROXYPHENYLACETIC ACID',\n",
       " '8-HYDROXYQUINOLINE',\n",
       " 'PROPIONYLCARNITINE',\n",
       " 'IS_PHENYLALANINE-2,3,4,5,6-D5',\n",
       " 'GALLIC ACID',\n",
       " 'CYSTINE',\n",
       " '3,5-DIMETHOXYPHENOL',\n",
       " 'PETROSELINIC ACID',\n",
       " 'LYSINE',\n",
       " 'RAFFINOSE',\n",
       " '3-HYDROXYISOVALERIC ACID',\n",
       " 'METHYLMALONIC ACID',\n",
       " 'TYROSINE',\n",
       " 'N,N-DIMETHYLGLYCINE',\n",
       " 'IS_GLUCOSE-1,2,3,4,5,6,6-D7',\n",
       " '2-(4-HYDROXYPHENYL)PROPIONIC ACID',\n",
       " 'IS_TRIDECANOIC ACID',\n",
       " 'IS_METHIONINE-METHYL-D3',\n",
       " 'OPHTHALMIC ACID',\n",
       " 'LINOLENIC ACID',\n",
       " 'IS_METHIONINE-METHYL-D3',\n",
       " 'ALPHA-N-ACETYL-GLUTAMINE',\n",
       " 'PHENYLACETIC ACID',\n",
       " '3,4-DIHYDROXYBENZOATE',\n",
       " 'N1-ACETYLSPERMINE',\n",
       " 'SELENOMETHIONINE',\n",
       " 'CYSTATHIONINE',\n",
       " '3-METHOXYTYRAMINE',\n",
       " 'ETHYL 4-AMINOBENZOIC ACID',\n",
       " 'IS_D15-OCTANOIC ACID',\n",
       " 'PYRIDOXAL',\n",
       " 'PROLINE',\n",
       " '2-HYDROXY-2-METHYLBUTYRIC ACID',\n",
       " 'DEOXYCYTIDINE',\n",
       " 'DAMP',\n",
       " 'PHENYLALANINE',\n",
       " 'PYROGLUTAMIC ACID',\n",
       " '4-AMINOBUTANOIC ACID',\n",
       " 'CYSTEINE',\n",
       " 'SPERMIDINE',\n",
       " \"CYTIDINE 5'-DIPHOSPHOCHOLINE\",\n",
       " 'PYRIDOXINE',\n",
       " 'O-ACETYL-SERINE',\n",
       " 'SUBERIC ACID',\n",
       " 'N-ALPHA-ACETYL-ASPARAGINE',\n",
       " 'TRYPTOPHAN',\n",
       " 'URACIL',\n",
       " 'NEPSILON,NEPSILON,NEPSILON-TRIMETHYLLYSINE',\n",
       " 'PUTRESCINE',\n",
       " 'IS_TRYPTOPHAN-2,4,5,6,7-D5',\n",
       " 'N-BUTYRYLGLYCINE',\n",
       " 'PTERIN',\n",
       " 'ASP-PHE',\n",
       " 'IS_N-BENZOYL-D5-GLYCINE',\n",
       " 'THREITOL',\n",
       " 'COPROPORPHYRIN III',\n",
       " 'BENZYL ALCOHOL',\n",
       " 'SPERMINE',\n",
       " 'TYRAMINE',\n",
       " 'IS_4-CHLORO-PHENYLALANINE',\n",
       " 'IS_PHENYLALANINE-2,3,4,5,6-D5',\n",
       " 'N-METHYLNICOTINAMIDE',\n",
       " 'FRUCTOSE 1,6-BIPHOSPHATE',\n",
       " 'IS_D27-TETRADECANOIC ACID',\n",
       " 'N-ACETYLTRYPTOPHAN',\n",
       " 'HISTAMINE',\n",
       " 'TRANEXAMIC ACID',\n",
       " 'IS_LEUCINE-5,5,5-D3',\n",
       " 'CITRIC ACID',\n",
       " 'IS_TRYPTOPHAN-2,4,5,6,7-D5',\n",
       " 'IS_TRYPTOPHAN-2,4,5,6,7-D5',\n",
       " '3-HYDROXYBUTYRIC ACID',\n",
       " '3-PHENYLLACTIC ACID',\n",
       " '4-AMINOBENZOIC ACID',\n",
       " 'PALMITIC ACID',\n",
       " 'TROPIC ACID',\n",
       " 'LEVULINIC ACID',\n",
       " '5-AMINOLEVULINIC ACID',\n",
       " 'CAPRYLOYL GLYCINE',\n",
       " 'MALEAMIC ACID',\n",
       " 'DECANOIC ACID',\n",
       " '1,6-ANHYDRO-B-GLUCOSE',\n",
       " 'CARNOSINE',\n",
       " 'SUCROSE',\n",
       " 'XANTHOSINE',\n",
       " \"INOSINE 5'-MONOPHOSPHATE\",\n",
       " 'IS_D19-DECANOIC ACID',\n",
       " 'MANNITOL',\n",
       " 'BIOTIN',\n",
       " 'DETHIOBIOTIN',\n",
       " '2-HYDROXYPHENYLACETIC ACID',\n",
       " 'IS_4-BROMO-PHENYLALANINE',\n",
       " 'IS_TRIDECANOIC ACID',\n",
       " 'XANTHINE',\n",
       " 'IS_4-BROMO-PHENYLALANINE',\n",
       " '4-PHENYLBUTYRIC ACID',\n",
       " 'FUMARIC ACID',\n",
       " 'IS_INDOLE-2,4,5,6,7-D5-3-ACETIC ACID',\n",
       " '1,3-DIMETHYLURACIL',\n",
       " 'LACTIC ACID',\n",
       " 'ALPHA-AMINOADIPIC ACID',\n",
       " 'PYRIDOXAMINE',\n",
       " 'IS_D19-DECANOIC ACID',\n",
       " '5-METHYLCYTOSINE',\n",
       " 'DEHYDROASCORBIC ACID',\n",
       " 'DIMETHYLBENZIMIDAZOLE',\n",
       " 'N-ACETYL-METHIONINE',\n",
       " 'PIPECOLIC ACID',\n",
       " '4-ACETAMIDOBUTANOIC ACID',\n",
       " 'IS_PHENYLALANINE-2,3,4,5,6-D5',\n",
       " 'MYO-INOSITOL',\n",
       " 'N-METHYL-GLUTAMATE',\n",
       " 'LAUROYLCARNITINE',\n",
       " 'ALANINE',\n",
       " 'IS_INDOLE-2,4,5,6,7-D5-3-ACETIC ACID',\n",
       " 'ALPHA-HYDROXYHIPPURIC ACID',\n",
       " 'PYRUVIC ACID',\n",
       " 'N-ACETYL-ASPARTIC ACID',\n",
       " \"2'-DEOXYGUANOSINE 5'-MONOPHOSPHATE\",\n",
       " 'SUCROSE',\n",
       " 'PROPIONYLGLYCINE',\n",
       " 'HISTIDINE',\n",
       " '1-METHYL-HYDANTOIN',\n",
       " 'HOMOARGININE',\n",
       " 'IS_INDOLE-2,4,5,6,7-D5-3-ACETIC ACID',\n",
       " 'PHENYLACETYLGLYCINE',\n",
       " 'IS_4-HYDROXYPHENYL-D4-ALANINE',\n",
       " 'TRIGONELLINE',\n",
       " '5,6-DIHYDROURACIL',\n",
       " 'INOSINE',\n",
       " '3-UREIDOPROPIONATE',\n",
       " 'HOMOCYSTEINE',\n",
       " 'N-ACETYL-PHENYLALANINE',\n",
       " '2-METHYLBUTYRYLGLYCINE',\n",
       " '5,6-DIHYDRO THYMINE',\n",
       " \"5-AMINOIMIDAZOLE-4-CARBOXAMIDE-1-BETA-RIBOFURANOSYL 5'-MONOPHOSPHATE\",\n",
       " 'NICOTINAMIDE',\n",
       " 'CATECHOL',\n",
       " 'IS_4-BROMO-PHENYLALANINE',\n",
       " 'RIBOSE 5-PHOSPHATE',\n",
       " 'N-ACETYL-ALANINE',\n",
       " 'N-ACETYLMURAMIC ACID',\n",
       " 'IS_4-CHLORO-PHENYLALANINE',\n",
       " 'IS_4-CHLORO-PHENYLALANINE',\n",
       " '4-SULFOOXYBENZOIC ACID',\n",
       " 'METHYL NICOTINIC ACID',\n",
       " 'IS_N-BENZOYL-D5-GLYCINE',\n",
       " 'CREATININE',\n",
       " 'ISOLEUCINE',\n",
       " 'PHENYLETHANOLAMINE',\n",
       " 'TRYPTAMINE',\n",
       " 'NICOTINIC ACID',\n",
       " 'FLAVIN ADENINE DINUCLEOTIDE',\n",
       " '8-HYDROXYQUINOLINE',\n",
       " 'GALACTOSAMINE',\n",
       " 'INDOLEACETIC ACID',\n",
       " 'N-ACETYLNEURAMINATE',\n",
       " 'GLUCOSAMINE 6-PHOSPHATE',\n",
       " 'MALIC ACID',\n",
       " 'INDOLEACRYLIC ACID',\n",
       " 'BILIVERDIN',\n",
       " 'AMINOMALONIC ACID',\n",
       " 'SYRINGIC ACID',\n",
       " 'O-SUCCINYL-HOMOSERINE',\n",
       " 'HYDROXYPHENYLLACTIC ACID',\n",
       " 'CADAVERINE',\n",
       " 'THYMINE',\n",
       " '3-FUROIC ACID',\n",
       " 'N-ALPHA-ACETYL-LYSINE',\n",
       " 'TRYPTOPHAN ETHYL ESTER',\n",
       " '6-HYDROXYNICOTINIC ACID',\n",
       " 'THREONINE',\n",
       " '1-METHYLADENOSINE',\n",
       " 'NAD',\n",
       " 'DEOXYURIDINE',\n",
       " 'CITRULLINE',\n",
       " 'INDOLEPROPIONIC ACID',\n",
       " 'INDOLEPROPIONIC ACID',\n",
       " 'TRIMETHYLAMINE N-OXIDE',\n",
       " '5-AMINOIMIDAZOLE-4-CARBOXAMIDE-1-BETA-RIBOFURANOSIDE',\n",
       " \"2'-DEOXYCYTIDINE 5'-MONOPHOSPHATE\",\n",
       " 'N-(CINNAMOYL)GLYCINE',\n",
       " '5-PHENYLVALERIC ACID',\n",
       " '3-CHLORO-TYROSINE',\n",
       " 'DEOXYCARNITINE',\n",
       " 'TIGLYL GLYCINE',\n",
       " \"5'-METHYLTHIOADENOSINE\",\n",
       " 'HIPPURIC ACID',\n",
       " 'SARCOSINE',\n",
       " \"XANTHOSINE 5'-MONOPHOSPHATE\",\n",
       " 'CHLOROGENIC ACID',\n",
       " '5-HYDROXY-TRYPTOPHAN',\n",
       " '5-METHOXY-3-INDOLEACETIC ACID',\n",
       " '3-HYDROXY-2-METHYL-4-PYRONE',\n",
       " 'N6-(DELTA2-ISOPENTENYL)-ADENINE',\n",
       " 'VITAMIN K4',\n",
       " '4-VINYL PHENOL',\n",
       " '2-ISOPROPYLMALIC ACID',\n",
       " 'IS_2-FLUROPHENYLGLYCINE']"
      ]
     },
     "execution_count": 255,
     "metadata": {},
     "output_type": "execute_result"
    }
   ],
   "source": [
    " list(df_metabNames.iloc[df_metabIds.iloc[id_metab_filter, 0], 1])"
   ]
  },
  {
   "cell_type": "code",
   "execution_count": 253,
   "id": "050babf0",
   "metadata": {},
   "outputs": [
    {
     "data": {
      "text/plain": [
       "array(['1,3-DIMETHYLURACIL', '1,6-ANHYDRO-B-GLUCOSE', '1-METHYLADENOSINE',\n",
       "       '2-AMINO-2-METHYLPROPANOIC ACID',\n",
       "       '2-HYDROXY-4-METHYLPENTANOIC ACID', '3,4-DIHYDROXYBENZOATE',\n",
       "       '4-ACETAMIDOBUTANOIC ACID', '4-AMINOBUTANOIC ACID',\n",
       "       '4-GUANIDINOBUTANOIC ACID', '4-SULFOOXYBENZOIC ACID',\n",
       "       '5-AMINOIMIDAZOLE-4-CARBOXAMIDE-1-BETA-RIBOFURANOSIDE',\n",
       "       'ACETYL-CARNITINE', \"ADENOSINE 2',3'-CYCLIC MONOPHOSPHATE\",\n",
       "       'ALPHA-HYDROXYHIPPURIC ACID', 'BIOTIN', 'CATECHOL', 'CHOLINE',\n",
       "       'CITRIC ACID', 'CYSTEINE', \"CYTIDINE 2',3'-CYCLIC MONOPHOSPHATE\",\n",
       "       'DAMP', 'DEHYDROASCORBIC ACID', 'DEOXYCARNITINE', 'DEOXYURIDINE',\n",
       "       'DIMETHYLBENZIMIDAZOLE', 'FLAVIN ADENINE DINUCLEOTIDE',\n",
       "       'GLYCYL-GLYCINE', 'INDOLE-3-ACETALDEHYDE', 'INDOLEPROPIONIC ACID',\n",
       "       'IS_4-BROMO-PHENYLALANINE', 'IS_4-CHLORO-PHENYLALANINE',\n",
       "       'IS_4-HYDROXYPHENYL-D4-ALANINE', 'IS_D15-OCTANOIC ACID',\n",
       "       'IS_D15-OCTANOIC ACID', 'IS_D19-DECANOIC ACID',\n",
       "       'IS_D27-TETRADECANOIC ACID',\n",
       "       'IS_INDOLE-2,4,5,6,7-D5-3-ACETIC ACID', 'IS_LEUCINE-5,5,5-D3',\n",
       "       'IS_TRIDECANOIC ACID', 'IS_TRYPTOPHAN-2,4,5,6,7-D5', 'LEUCINE',\n",
       "       'LEVULINIC ACID', 'MALONIC ACID', 'MYO-INOSITOL',\n",
       "       'N-ACETYL-5-HYDROXYTRYPTAMINE', 'N-ACETYL-ALANINE',\n",
       "       'N-ACETYL-ASPARTIC ACID', 'N-ACETYL-PHENYLALANINE',\n",
       "       'N-ACETYLMURAMIC ACID', 'N-ALPHA-ACETYL-ASPARAGINE',\n",
       "       'N-METHYL-ASPARTIC ACID', 'ORNITHINE', 'PANTOTHENIC ACID',\n",
       "       \"S-(5'-ADENOSYL)-L-HOMOCYSTEINE\", 'SERINE', 'SUBERIC ACID',\n",
       "       'SUCROSE', 'SYRINGIC ACID', 'TARTARIC ACID', 'THREONINE',\n",
       "       'TIGLYL GLYCINE', 'TRIGONELLINE', 'TRYPTOPHAN ETHYL ESTER',\n",
       "       'VALINE', \"XANTHOSINE 5'-MONOPHOSPHATE\"], dtype='<U52')"
      ]
     },
     "execution_count": 253,
     "metadata": {},
     "output_type": "execute_result"
    }
   ],
   "source": [
    "np.sort(list(df_metabNames.iloc[df_metabIds.iloc[id_nnz, 0], 1]))"
   ]
  }
 ],
 "metadata": {
  "kernelspec": {
   "display_name": "Python 3 (ipykernel)",
   "language": "python",
   "name": "python3"
  },
  "language_info": {
   "codemirror_mode": {
    "name": "ipython",
    "version": 3
   },
   "file_extension": ".py",
   "mimetype": "text/x-python",
   "name": "python",
   "nbconvert_exporter": "python",
   "pygments_lexer": "ipython3",
   "version": "3.9.16"
  }
 },
 "nbformat": 4,
 "nbformat_minor": 5
}
