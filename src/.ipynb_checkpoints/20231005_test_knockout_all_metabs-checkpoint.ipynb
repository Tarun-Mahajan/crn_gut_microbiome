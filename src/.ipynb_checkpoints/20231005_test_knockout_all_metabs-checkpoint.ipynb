{
 "cells": [
  {
   "cell_type": "code",
   "execution_count": 1,
   "id": "0622a05c",
   "metadata": {},
   "outputs": [],
   "source": [
    "%config Completer.use_jedi = False"
   ]
  },
  {
   "cell_type": "code",
   "execution_count": 2,
   "id": "210b58e6",
   "metadata": {},
   "outputs": [],
   "source": [
    "%load_ext autoreload\n",
    "%autoreload 2"
   ]
  },
  {
   "cell_type": "code",
   "execution_count": 3,
   "id": "56fb4458",
   "metadata": {},
   "outputs": [],
   "source": [
    "# from arch.bootstrap import StationaryBootstrap\n",
    "# from arch.bootstrap import IndependentSamplesBootstrap\n",
    "# from arch.bootstrap import bootstrapped_difference\n",
    "# from bootstrapped import bootstrap as bs\n",
    "# from bootstrapped import compare_functions as cf\n",
    "import hdbscan\n",
    "from matplotlib.colors import LinearSegmentedColormap\n",
    "import matplotlib.pyplot as plt\n",
    "import matplotlib as mpl\n",
    "from matplotlib.patches import ArrowStyle\n",
    "import math\n",
    "import numpy as np\n",
    "import networkx as nx\n",
    "import os\n",
    "import pandas as pd\n",
    "import pickle\n",
    "import random\n",
    "from scipy.optimize import nnls\n",
    "from scipy.optimize import curve_fit\n",
    "from scipy.optimize import minimize\n",
    "import scipy\n",
    "import scipy.cluster.hierarchy as sch\n",
    "from scipy.stats import mannwhitneyu, normaltest\n",
    "from scipy.spatial.distance import jensenshannon\n",
    "import seaborn as sns\n",
    "from sklearn.cluster import KMeans\n",
    "from sklearn.cluster import affinity_propagation\n",
    "from sklearn.metrics import pairwise_distances\n",
    "from sklearn.decomposition import PCA\n",
    "from sklearn.linear_model import ElasticNet\n",
    "from sklearn.linear_model import LinearRegression\n",
    "from sklearn import linear_model\n",
    "from sklearn.datasets import make_regression\n",
    "from joblib import Parallel, delayed\n",
    "import statsmodels.api as sm\n",
    "from statsmodels.stats.outliers_influence import variance_inflation_factor\n",
    "from statannotations.Annotator import Annotator\n",
    "import umap\n",
    "from scipy.cluster.hierarchy import dendrogram, linkage\n",
    "from sklearn.cluster import AgglomerativeClustering\n",
    "from itertools import product"
   ]
  },
  {
   "cell_type": "code",
   "execution_count": 67,
   "id": "2e9b29cf",
   "metadata": {},
   "outputs": [],
   "source": [
    "from utils import create_abundance_header_new, compute_cons_abun_prod, hierarchical_cluster_metabs, \\\n",
    "    get_metabs_clusters, avg_consumption_df, fit_ss_Ri, match_lhs_rhs_fit, \\\n",
    "    blindly_pred_abun_growth, fit_dynamic_Ri, compute_growth_ratio_iterate_blind_seq, \\\n",
    "    blindly_pred_abun_growth_seq, blindly_pred_abun_loggrowth, remove_passages, fit_dynamic_Ri_with_sim_inoc, \\\n",
    "    fit_dynamic_Ri_with_sim_inoc_bal, compute_Ri_dynamic_goodness_of_fit, \\\n",
    "    plot_panel_pred_vs_obs_abundance_blind, compute_growth_ratio_iterate_blind, \\\n",
    "    blindly_pred_abun_growth_without_inoc, load_data, metabs_to_remove_knockdown_species, \\\n",
    "    get_RMSE_Balone_func, get_B_alone_func, iterate_growth_ratio, geometric_avg"
   ]
  },
  {
   "cell_type": "code",
   "execution_count": 5,
   "id": "f98bde53",
   "metadata": {},
   "outputs": [],
   "source": [
    "filepath_ = os.path.abspath(os.path.join('..', 'data', 'jin_pollard', \\\n",
    "                                    'convert_usedNames_to_jinPollardNames.csv'))\n",
    "df_names_convert = pd.read_csv(filepath_, index_col=None)"
   ]
  },
  {
   "cell_type": "code",
   "execution_count": 6,
   "id": "06f3bb91",
   "metadata": {},
   "outputs": [],
   "source": [
    "df_speciesMetab, df_speciesAbun, \\\n",
    "    df_speciesAbun_super_agar, \\\n",
    "    df_speciesAbun_mucin, \\\n",
    "    df_speciesAbun_inoc, \\\n",
    "    df_speciesAbun_ratio, \\\n",
    "    df_speciesAbun_super_agar_ratio, \\\n",
    "    df_speciesAbun_mucin_ratio, \\\n",
    "    df_speciesAbun_prev, \\\n",
    "    df_speciesAbun_super_agar_prev, \\\n",
    "    df_speciesAbun_mucin_prev, \\\n",
    "    df_speciesAbun_next, \\\n",
    "    df_speciesAbun_super_agar_next, \\\n",
    "    df_speciesAbun_mucin_next, metab_names, \\\n",
    "    species_names_tmp, df_speciesMetab_prod = \\\n",
    "        load_data()"
   ]
  },
  {
   "cell_type": "code",
   "execution_count": 7,
   "id": "3db63d9c",
   "metadata": {},
   "outputs": [],
   "source": [
    "species_names = []\n",
    "filepath_ = os.path.abspath(os.path.join('..', 'data', 'jin_pollard', \\\n",
    "                                    'convert_usedNames_to_jinPollardNames.csv'))\n",
    "df_names_convert = pd.read_csv(filepath_, index_col=None)\n",
    "\n",
    "for sp_ in range(len(species_names_tmp)):\n",
    "    id_ = np.where(df_names_convert.iloc[:, 0].values == species_names_tmp[sp_])[0]\n",
    "    species_names.append(df_names_convert.iloc[id_, 1])\n",
    "species_names = np.array(species_names)"
   ]
  },
  {
   "cell_type": "markdown",
   "id": "ab4d3c73",
   "metadata": {},
   "source": [
    "# set params"
   ]
  },
  {
   "cell_type": "code",
   "execution_count": 8,
   "id": "0da7b5ce",
   "metadata": {},
   "outputs": [],
   "source": [
    "num_species = len(species_names)\n",
    "num_metabs = len(metab_names)\n",
    "num_passages = 6\n",
    "num_bioRep = 3"
   ]
  },
  {
   "cell_type": "code",
   "execution_count": 9,
   "id": "6a58bbf6",
   "metadata": {},
   "outputs": [],
   "source": [
    "distance_metric = 'euclidean'\n",
    "# distance_metric = 'correlation'\n",
    "metab_cluster_mean_func = 'geometric'\n",
    "metab_cluster_mean_func = \"linear\"\n",
    "clustering_method = \"hdbscan\"\n",
    "clustering_method = \"hierarch_clust\"\n",
    "random_seed = 635\n",
    "# random_seed = 9876\n",
    "# random_seed = 7360\n",
    "# microcosm_type = \"supernatantAgar\"\n",
    "# microcosm_type = \"mucin\"\n",
    "microcosm_type = \"noMicrocosm\""
   ]
  },
  {
   "cell_type": "code",
   "execution_count": 10,
   "id": "523b79fb",
   "metadata": {},
   "outputs": [],
   "source": [
    "if microcosm_type == \"noMicrocosm\":\n",
    "    df_speciesAbun_mdl = df_speciesAbun.copy()\n",
    "    df_speciesAbun_prev_mdl = df_speciesAbun_prev.copy()\n",
    "    df_speciesAbun_next_mdl = df_speciesAbun_next.copy()\n",
    "    df_speciesAbun_ratio_mdl = df_speciesAbun_ratio.copy()\n",
    "elif microcosm_type == \"supernatantAgar\":\n",
    "    df_speciesAbun_mdl = df_speciesAbun_super_agar.copy()\n",
    "    df_speciesAbun_prev_mdl = df_speciesAbun_super_agar_prev.copy()\n",
    "    df_speciesAbun_next_mdl = df_speciesAbun_super_agar_next.copy()\n",
    "    df_speciesAbun_ratio_mdl = df_speciesAbun_super_agar_ratio.copy()\n",
    "elif microcosm_type == \"mucin\":\n",
    "    df_speciesAbun_mdl = df_speciesAbun_mucin.copy()\n",
    "    df_speciesAbun_prev_mdl = df_speciesAbun_mucin_prev.copy()\n",
    "    df_speciesAbun_next_mdl = df_speciesAbun_mucin_next.copy()\n",
    "    df_speciesAbun_ratio_mdl = df_speciesAbun_mucin_ratio.copy()"
   ]
  },
  {
   "cell_type": "markdown",
   "id": "3c75f3a1",
   "metadata": {},
   "source": [
    "# cluster metabolites"
   ]
  },
  {
   "cell_type": "code",
   "execution_count": 11,
   "id": "9be4daae",
   "metadata": {},
   "outputs": [],
   "source": [
    "nclusts = 10\n",
    "df_metabs_clusters, df_speciesMetab_new, df_speciesMetab_prod_new = \\\n",
    "    get_metabs_clusters(df_speciesMetab.copy(), df_speciesMetab_prod.copy(), \\\n",
    "                        bin_thresh=0.3, species_num_thresh=5, \\\n",
    "                        n_clusters_hclust=nclusts, distance_metric=\"euclidean\", \\\n",
    "                        method_cluster=\"ward\", normalize_=False)\n",
    "df_speciesMetab_cluster, df_speciesMetab_prod_cluster = \\\n",
    "    avg_consumption_df(df_speciesMetab_new, df_speciesMetab_prod_new, df_metabs_clusters, \\\n",
    "                       metab_cluster_mean_func=\"geometric\")"
   ]
  },
  {
   "cell_type": "code",
   "execution_count": 16,
   "id": "46b2e7f5",
   "metadata": {},
   "outputs": [],
   "source": [
    "df_speciesMetab_cluster = df_speciesMetab.copy()\n",
    "df_speciesMetab_prod_cluster = df_speciesMetab_prod.copy()"
   ]
  },
  {
   "cell_type": "code",
   "execution_count": 18,
   "id": "4d2cf44f",
   "metadata": {},
   "outputs": [
    {
     "name": "stdout",
     "output_type": "stream",
     "text": [
      "count = 0, p_tmp = 0.001\n",
      "count = 1, p_tmp = 0.01\n",
      "count = 2, p_tmp = 0.05\n",
      "count = 3, p_tmp = 0.06\n",
      "count = 4, p_tmp = 0.07\n",
      "count = 5, p_tmp = 0.08\n",
      "count = 6, p_tmp = 0.09\n",
      "count = 7, p_tmp = 0.1\n",
      "count = 8, p_tmp = 0.125\n",
      "count = 9, p_tmp = 0.15\n",
      "count = 10, p_tmp = 0.175\n",
      "count = 11, p_tmp = 0.2\n",
      "count = 12, p_tmp = 0.3\n",
      "count = 13, p_tmp = 0.4\n",
      "count = 14, p_tmp = 0.5\n",
      "count = 15, p_tmp = 0.55\n",
      "count = 16, p_tmp = 0.6\n",
      "count = 17, p_tmp = 0.65\n",
      "count = 18, p_tmp = 0.7\n"
     ]
    }
   ],
   "source": [
    "## fit dynamic Ri for passage transition 1->2 and 2->3 for clustered metabs\n",
    "# date_ = '20230912'\n",
    "# date_meeting = '20230912'\n",
    "\n",
    "#use normalized clustering of metabs\n",
    "date_ = '20231006'\n",
    "date_meeting = '20231006'\n",
    "n_repeats = 10\n",
    "rand_seed = 7363\n",
    "np.random.seed(rand_seed)\n",
    "p_vec_new = [0.001, 0.01, 0.05, 0.06, 0.07, 0.08, 0.09, 0.1, 0.125, 0.15, 0.175, \\\n",
    "             0.2, 0.3, 0.4, 0.5, 0.55, 0.6, 0.65, 0.7]\n",
    "\n",
    "\n",
    "num_metabs_clust = df_speciesMetab_cluster.shape[1]\n",
    "df_speciesMetab_tmp = df_speciesMetab_cluster.copy()\n",
    "df_speciesMetab_prod_tmp = df_speciesMetab_prod_cluster.copy()\n",
    "\n",
    "save_dir = os.path.abspath(os.path.join(os.getcwd(), '..', 'figures', \\\n",
    "                                        'predictions', 'leaveOneOut', \\\n",
    "                                        f'{date_meeting}_for_paper_' + \\\n",
    "                                        f'_Ri_fit_dynamic_with_production' + \\\n",
    "                                        f'_cluster_metabolites_new_{nclusts}hierachClust_{microcosm_type}' + \\\n",
    "                                        f'_pass_1to2'))\n",
    "if not os.path.exists(save_dir):\n",
    "   # Create a new directory because it does not exist\n",
    "   os.makedirs(save_dir)\n",
    "file_save = os.path.abspath(os.path.join(save_dir, \n",
    "                                         f'{date_}_for_paper_Ri_fit_dynamic_with_production' + \\\n",
    "                                         f'_cluster_metabolites_new_hierachClust_{microcosm_type}' + \\\n",
    "                                         f'.pickle'))\n",
    "Ri_dynamic_obj = {}\n",
    "# Ri_dynamic_obj = fit_dynamic_Ri(df_speciesMetab_cluster, \\\n",
    "#                                 df_speciesAbun_prev_mdl, df_speciesAbun_next_mdl, \\\n",
    "#                                 df_speciesAbun_ratio_mdl, p_vec_new, \\\n",
    "#                                 file_save, num_passages=5, pass_rm=[1, 2, 3, 4])\n",
    "pass_keep = np.arange(num_passages - 1)\n",
    "id_keep = list(pass_keep) + list(pass_keep + num_passages - 1) + list(pass_keep + 2 * (num_passages - 1))\n",
    "pass_rm = [1, 2, 3, 4]\n",
    "Ri_dynamic_obj, A_train, b_train = fit_dynamic_Ri(df_speciesMetab_tmp, \\\n",
    "                                df_speciesAbun_prev_mdl.iloc[:, id_keep], \\\n",
    "                                df_speciesAbun_next_mdl.iloc[:, id_keep], \\\n",
    "                                df_speciesAbun_ratio_mdl.iloc[:, id_keep], p_vec_new, \\\n",
    "                                file_save, num_passages=5, pass_rm=pass_rm, num_brep=3, \\\n",
    "                                get_prod=True, B_alone=0.1, \\\n",
    "                                df_speciesMetab_prod=df_speciesMetab_prod_tmp, \\\n",
    "                                prod_use_prev=False, use_dilution_term=True, \\\n",
    "                                dilution_factor=15000, use_avg_for_prod=False, \\\n",
    "                                return_raw_data=True, check_ratio_dir=False)\n",
    "# Ri_dynamic_obj = fit_dynamic_Ri(df_speciesMetab, \\\n",
    "#                                       df_speciesAbun_prev_mdl, df_speciesAbun_next_mdl, \\\n",
    "#                                       df_speciesAbun_ratio_mdl, p_vec_new, \\\n",
    "#                                       file_save, num_passages=5, pass_rm=[3, 4])\n",
    "# Ri_dynamic_obj = fit_ss_Ri(df_speciesMetab, df_speciesAbun_mdl, \\\n",
    "#                                       df_speciesAbun_prev_mdl, df_speciesAbun_next_mdl, \\\n",
    "#                                       df_speciesAbun_ratio_mdl, \\\n",
    "#                                       file_save, num_passages=6, pass_rm=[0, 1, 2])\n",
    "# Ri_ss_obj =  fit_ss_Ri(df_speciesMetab_cluster, df_speciesAbun_mdl, \\\n",
    "#                        df_speciesAbun_prev_mdl, df_speciesAbun_next_mdl, \\\n",
    "#                        df_speciesAbun_ratio_mdl, \\\n",
    "#                        file_save=file_save, num_passages=6, pass_rm=pass_rm)\n",
    "\n",
    "with open(file_save, \"wb\") as file_:\n",
    "     pickle.dump(Ri_dynamic_obj, file_) "
   ]
  },
  {
   "cell_type": "code",
   "execution_count": 19,
   "id": "c5ddcead",
   "metadata": {},
   "outputs": [],
   "source": [
    "Ri_noMicrocosm_dynamicAll_fit_joint = Ri_dynamic_obj['Ri_noMicrocosm_dynamicAll_fit_joint']\n",
    "\n",
    "count_p = 7\n",
    "Ri_0_init_new = Ri_noMicrocosm_dynamicAll_fit_joint[count_p].copy()"
   ]
  },
  {
   "cell_type": "code",
   "execution_count": 20,
   "id": "c21c6618",
   "metadata": {
    "scrolled": true
   },
   "outputs": [
    {
     "name": "stdout",
     "output_type": "stream",
     "text": [
      "iteration = 0\n",
      "count = 0, p_tmp = 0.1\n",
      "iteration = 1\n",
      "count = 0, p_tmp = 0.1\n",
      "iteration = 2\n",
      "count = 0, p_tmp = 0.1\n",
      "iteration = 3\n",
      "count = 0, p_tmp = 0.1\n",
      "iteration = 4\n",
      "count = 0, p_tmp = 0.1\n",
      "iteration = 5\n",
      "count = 0, p_tmp = 0.1\n",
      "iteration = 6\n",
      "count = 0, p_tmp = 0.1\n",
      "iteration = 7\n",
      "count = 0, p_tmp = 0.1\n",
      "iteration = 8\n",
      "count = 0, p_tmp = 0.1\n",
      "iteration = 9\n",
      "count = 0, p_tmp = 0.1\n",
      "iteration = 10\n",
      "count = 0, p_tmp = 0.1\n",
      "iteration = 11\n",
      "count = 0, p_tmp = 0.1\n",
      "iteration = 12\n",
      "count = 0, p_tmp = 0.1\n",
      "iteration = 13\n",
      "count = 0, p_tmp = 0.1\n",
      "iteration = 14\n",
      "count = 0, p_tmp = 0.1\n",
      "iteration = 15\n",
      "count = 0, p_tmp = 0.1\n",
      "iteration = 16\n",
      "count = 0, p_tmp = 0.1\n",
      "iteration = 17\n",
      "count = 0, p_tmp = 0.1\n",
      "iteration = 18\n",
      "count = 0, p_tmp = 0.1\n",
      "iteration = 19\n",
      "count = 0, p_tmp = 0.1\n",
      "iteration = 20\n",
      "count = 0, p_tmp = 0.1\n",
      "iteration = 21\n",
      "count = 0, p_tmp = 0.1\n",
      "iteration = 22\n",
      "count = 0, p_tmp = 0.1\n",
      "iteration = 23\n",
      "count = 0, p_tmp = 0.1\n",
      "iteration = 24\n",
      "count = 0, p_tmp = 0.1\n",
      "iteration = 25\n",
      "count = 0, p_tmp = 0.1\n",
      "iteration = 26\n",
      "count = 0, p_tmp = 0.1\n",
      "iteration = 27\n",
      "count = 0, p_tmp = 0.1\n",
      "iteration = 28\n",
      "count = 0, p_tmp = 0.1\n",
      "iteration = 29\n",
      "count = 0, p_tmp = 0.1\n",
      "iteration = 30\n",
      "count = 0, p_tmp = 0.1\n",
      "iteration = 31\n",
      "count = 0, p_tmp = 0.1\n",
      "iteration = 32\n",
      "count = 0, p_tmp = 0.1\n",
      "iteration = 33\n",
      "count = 0, p_tmp = 0.1\n",
      "iteration = 34\n",
      "count = 0, p_tmp = 0.1\n",
      "iteration = 35\n",
      "count = 0, p_tmp = 0.1\n",
      "iteration = 36\n",
      "count = 0, p_tmp = 0.1\n",
      "iteration = 37\n",
      "count = 0, p_tmp = 0.1\n",
      "iteration = 38\n",
      "count = 0, p_tmp = 0.1\n",
      "iteration = 39\n",
      "count = 0, p_tmp = 0.1\n",
      "iteration = 40\n",
      "count = 0, p_tmp = 0.1\n",
      "iteration = 41\n",
      "count = 0, p_tmp = 0.1\n",
      "iteration = 42\n",
      "count = 0, p_tmp = 0.1\n",
      "iteration = 43\n",
      "count = 0, p_tmp = 0.1\n",
      "iteration = 44\n",
      "count = 0, p_tmp = 0.1\n",
      "iteration = 45\n",
      "count = 0, p_tmp = 0.1\n",
      "iteration = 46\n",
      "count = 0, p_tmp = 0.1\n",
      "iteration = 47\n",
      "count = 0, p_tmp = 0.1\n",
      "iteration = 48\n",
      "count = 0, p_tmp = 0.1\n",
      "iteration = 49\n",
      "count = 0, p_tmp = 0.1\n",
      "iteration = 50\n",
      "count = 0, p_tmp = 0.1\n",
      "iteration = 51\n",
      "count = 0, p_tmp = 0.1\n",
      "iteration = 52\n",
      "count = 0, p_tmp = 0.1\n",
      "iteration = 53\n",
      "count = 0, p_tmp = 0.1\n",
      "iteration = 54\n",
      "count = 0, p_tmp = 0.1\n",
      "iteration = 55\n",
      "count = 0, p_tmp = 0.1\n",
      "iteration = 56\n",
      "count = 0, p_tmp = 0.1\n",
      "iteration = 57\n",
      "count = 0, p_tmp = 0.1\n",
      "iteration = 58\n",
      "count = 0, p_tmp = 0.1\n",
      "iteration = 59\n",
      "count = 0, p_tmp = 0.1\n",
      "iteration = 60\n",
      "count = 0, p_tmp = 0.1\n",
      "iteration = 61\n",
      "count = 0, p_tmp = 0.1\n",
      "iteration = 62\n",
      "count = 0, p_tmp = 0.1\n",
      "iteration = 63\n",
      "count = 0, p_tmp = 0.1\n",
      "iteration = 64\n",
      "count = 0, p_tmp = 0.1\n",
      "iteration = 65\n",
      "count = 0, p_tmp = 0.1\n",
      "iteration = 66\n",
      "count = 0, p_tmp = 0.1\n",
      "iteration = 67\n",
      "count = 0, p_tmp = 0.1\n",
      "iteration = 68\n",
      "count = 0, p_tmp = 0.1\n",
      "iteration = 69\n",
      "count = 0, p_tmp = 0.1\n",
      "iteration = 70\n",
      "count = 0, p_tmp = 0.1\n",
      "iteration = 71\n",
      "count = 0, p_tmp = 0.1\n",
      "iteration = 72\n",
      "count = 0, p_tmp = 0.1\n",
      "iteration = 73\n",
      "count = 0, p_tmp = 0.1\n",
      "iteration = 74\n",
      "count = 0, p_tmp = 0.1\n",
      "iteration = 75\n",
      "count = 0, p_tmp = 0.1\n",
      "iteration = 76\n",
      "count = 0, p_tmp = 0.1\n",
      "iteration = 77\n",
      "count = 0, p_tmp = 0.1\n",
      "iteration = 78\n",
      "count = 0, p_tmp = 0.1\n",
      "iteration = 79\n",
      "count = 0, p_tmp = 0.1\n",
      "iteration = 80\n",
      "count = 0, p_tmp = 0.1\n",
      "iteration = 81\n",
      "count = 0, p_tmp = 0.1\n",
      "iteration = 82\n",
      "count = 0, p_tmp = 0.1\n",
      "iteration = 83\n",
      "count = 0, p_tmp = 0.1\n",
      "iteration = 84\n",
      "count = 0, p_tmp = 0.1\n",
      "iteration = 85\n",
      "count = 0, p_tmp = 0.1\n",
      "iteration = 86\n",
      "count = 0, p_tmp = 0.1\n",
      "iteration = 87\n",
      "count = 0, p_tmp = 0.1\n",
      "iteration = 88\n",
      "count = 0, p_tmp = 0.1\n",
      "iteration = 89\n",
      "count = 0, p_tmp = 0.1\n",
      "iteration = 90\n",
      "count = 0, p_tmp = 0.1\n",
      "iteration = 91\n",
      "count = 0, p_tmp = 0.1\n",
      "iteration = 92\n",
      "count = 0, p_tmp = 0.1\n",
      "iteration = 93\n",
      "count = 0, p_tmp = 0.1\n",
      "iteration = 94\n",
      "count = 0, p_tmp = 0.1\n",
      "iteration = 95\n",
      "count = 0, p_tmp = 0.1\n",
      "iteration = 96\n",
      "count = 0, p_tmp = 0.1\n",
      "iteration = 97\n",
      "count = 0, p_tmp = 0.1\n",
      "iteration = 98\n",
      "count = 0, p_tmp = 0.1\n",
      "iteration = 99\n",
      "count = 0, p_tmp = 0.1\n"
     ]
    }
   ],
   "source": [
    "# fit Ri with production and iteratively find B_alone\n",
    "num_iter = 100\n",
    "B_alone_iter = {}\n",
    "\n",
    "## fit dynamic Ri for passage transition 1->2 and 2->3 for clustered metabs\n",
    "# date_ = '20230912'\n",
    "# date_meeting = '20230912'\n",
    "\n",
    "# #use normalized clustering of metabs\n",
    "# date_ = '20230921'\n",
    "# date_meeting = '20230921'\n",
    "# date_ = '20230927'\n",
    "# date_meeting = '20230927'\n",
    "date_ = '20231006'\n",
    "date_meeting = '20231006'\n",
    "\n",
    "n_repeats = 10\n",
    "rand_seed = 7363\n",
    "np.random.seed(rand_seed)\n",
    "p_vec_new_tmp = [0.1]\n",
    "\n",
    "\n",
    "num_metabs_clust = df_speciesMetab_cluster.shape[1]\n",
    "df_speciesMetab_tmp = df_speciesMetab_cluster.copy()\n",
    "df_speciesMetab_prod_tmp = df_speciesMetab_prod_cluster.copy()\n",
    "\n",
    "save_dir = os.path.abspath(os.path.join(os.getcwd(), '..', 'figures', \\\n",
    "                                        'predictions', 'leaveOneOut', \\\n",
    "                                        f'{date_meeting}_for_paper_' + \\\n",
    "                                        f'_Ri_fit_dynamic_with_production' + \\\n",
    "                                        f'_cluster_metabolites_new_{nclusts}hierachClust_{microcosm_type}' + \\\n",
    "                                        f'_pass_1to2'))\n",
    "if not os.path.exists(save_dir):\n",
    "   # Create a new directory because it does not exist\n",
    "   os.makedirs(save_dir)\n",
    "file_save = os.path.abspath(os.path.join(save_dir, \n",
    "                                         f'{date_}_for_paper_Ri_fit_dynamic_with_production' + \\\n",
    "                                         f'_cluster_metabolites_new_hierachClust_{microcosm_type}' + \\\n",
    "                                         f'_iterate_Balone.pickle'))\n",
    "Ri_dynamic_obj = {}\n",
    "# Ri_dynamic_obj = fit_dynamic_Ri(df_speciesMetab_cluster, \\\n",
    "#                                 df_speciesAbun_prev_mdl, df_speciesAbun_next_mdl, \\\n",
    "#                                 df_speciesAbun_ratio_mdl, p_vec_new, \\\n",
    "#                                 file_save, num_passages=5, pass_rm=[1, 2, 3, 4])\n",
    "pass_keep = np.arange(num_passages - 1)\n",
    "id_keep = list(pass_keep) + list(pass_keep + num_passages - 1) + list(pass_keep + 2 * (num_passages - 1))\n",
    "pass_rm = [1, 2, 3, 4]\n",
    "\n",
    "RMSE_Balone_iterate = {}\n",
    "\n",
    "for iter_ in range(num_iter):\n",
    "    print(f'iteration = {iter_}')\n",
    "    if iter_ == 0:\n",
    "#         B_alone_cur = np.median(abun_alone)\n",
    "        Ri_avg = Ri_0_init_new.copy()\n",
    "        B_alone_cur = get_B_alone_func(Ri_avg, df_speciesMetab_cluster.copy())\n",
    "    else:\n",
    "        Ri_avg = Ri_dynamic_obj['Ri_noMicrocosm_dynamicAll_fit_joint'][0].copy()\n",
    "        B_alone_cur = B_alone_iter[iter_ - 1].copy()\n",
    "    \n",
    "    \n",
    "    Ri_dynamic_obj, A_train, b_train = fit_dynamic_Ri(df_speciesMetab_tmp, \\\n",
    "                                    df_speciesAbun_prev_mdl.iloc[:, id_keep], \\\n",
    "                                    df_speciesAbun_next_mdl.iloc[:, id_keep], \\\n",
    "                                    df_speciesAbun_ratio_mdl.iloc[:, id_keep], p_vec_new_tmp, \\\n",
    "                                    file_save, num_passages=5, pass_rm=pass_rm, save_data=False, \\\n",
    "                                    num_brep=3, \\\n",
    "                                    get_prod=True, B_alone=B_alone_cur, \\\n",
    "                                    df_speciesMetab_prod=df_speciesMetab_prod_tmp, \\\n",
    "                                    prod_use_prev=False, use_avg_for_prod=False, \\\n",
    "                                    return_raw_data=True, check_ratio_dir=False)\n",
    "    Ri_avg = Ri_dynamic_obj['Ri_noMicrocosm_dynamicAll_fit_joint'][0].copy()\n",
    "#     abun_alone_tmp = np.zeros((num_species))\n",
    "\n",
    "#     for species_ in range(num_species):\n",
    "#         abun_alone_tmp[species_] = np.sum(Ri_avg[0] * np.array(df_speciesMetab_cluster.iloc[species_, :].values))\n",
    "    B_alone_iter[iter_] = get_B_alone_func(Ri_avg, df_speciesMetab_cluster.copy())\n",
    "    RMSE_Balone_iterate[iter_] = \\\n",
    "        get_RMSE_Balone_func(df_speciesMetab_cluster, df_speciesMetab_prod_cluster, p_vec_new_tmp, 0, \\\n",
    "                        Ri_dynamic_obj['Ri_noMicrocosm_dynamicAll_fit_joint'].copy(), \\\n",
    "                        df_speciesAbun_inoc, df_speciesAbun_mdl, df_speciesAbun_prev_mdl, \\\n",
    "                        df_speciesAbun_ratio_mdl, B_alone_cur, num_passages=6, \\\n",
    "                        use_dilution=True)\n",
    "Ri_dynamic_obj['B_alone_iter'] = B_alone_iter\n",
    "# with open(file_save, \"wb\") as file_:\n",
    "#      pickle.dump(Ri_dynamic_obj, file_) "
   ]
  },
  {
   "cell_type": "code",
   "execution_count": 23,
   "id": "b702893c",
   "metadata": {},
   "outputs": [
    {
     "name": "stdout",
     "output_type": "stream",
     "text": [
      "PearsonRResult(statistic=0.8674332818795839, pvalue=1.366130952176135e-58)\n",
      "0.13219613133788957\n",
      "0.23141717519081936\n"
     ]
    },
    {
     "data": {
      "image/png": "[encoded data removed]",
      "text/plain": [
       "<Figure size 640x480 with 1 Axes>"
      ]
     },
     "metadata": {},
     "output_type": "display_data"
    }
   ],
   "source": [
    "id_m = 1\n",
    "x = A_train[0][:, id_m]\n",
    "y = b_train[0].flatten()\n",
    "coeffs_ = nnls(A_train[0], y.flatten())[0]\n",
    "y_pred = A_train[0] @ coeffs_\n",
    "id_rand = np.random.choice(np.arange(len(y_pred)), len(y_pred), replace=False)\n",
    "coeffs_rand = nnls(A_train[0][id_rand, :], y.flatten())[0]\n",
    "y_rand = A_train[0][id_rand, :] @ coeffs_rand\n",
    "# y_rand = y_pred[id_rand].copy()\n",
    "plt_ = sns.scatterplot(x=y, y=y_pred.flatten())\n",
    "print(scipy.stats.pearsonr(y_pred, y))\n",
    "print(np.sqrt(np.mean(np.power(y_pred - y, 2))))\n",
    "print(np.sqrt(np.mean(np.power(y_rand - y, 2))))"
   ]
  },
  {
   "cell_type": "code",
   "execution_count": 24,
   "id": "422ee2de",
   "metadata": {},
   "outputs": [],
   "source": [
    "Ri_noMicrocosm_dynamicAll_fit_all = Ri_dynamic_obj['Ri_noMicrocosm_dynamicAll_fit_all']\n",
    "Ri_noMicrocosm_dynamicAll_fit_avg = Ri_dynamic_obj['Ri_noMicrocosm_dynamicAll_fit_avg']\n",
    "Ri_noMicrocosm_dynamicAll_fit_joint = Ri_dynamic_obj['Ri_noMicrocosm_dynamicAll_fit_joint']\n",
    "B_alone_iter = Ri_dynamic_obj['B_alone_iter']"
   ]
  },
  {
   "cell_type": "code",
   "execution_count": 68,
   "id": "346383fb",
   "metadata": {},
   "outputs": [],
   "source": [
    "# evalute Ri with production and iterative Balone\n",
    "# date_ = '20230927'\n",
    "# date_meeting = '20230927'\n",
    "# date_ = '20230912'\n",
    "# date_meeting = '20230912'\n",
    "\n",
    "date_ = '20231005'\n",
    "date_meeting = '20231005'\n",
    "num_metabs_clust = df_speciesMetab_cluster.shape[1]\n",
    "df_speciesMetab_tmp = df_speciesMetab_cluster.copy()\n",
    "df_speciesMetab_prod_tmp = df_speciesMetab_prod_cluster.copy()\n",
    "# count_p = 7\n",
    "num_iter = 100\n",
    "p_vec_new_tmp = [0.1]\n",
    "count_p = 0\n",
    "\n",
    "RMSE_mat_full = np.zeros((num_passages, 2))\n",
    "Ri_avg = Ri_noMicrocosm_dynamicAll_fit_joint[count_p].copy()\n",
    "Ri_fit = {0: Ri_avg}\n",
    "abun_alone = get_B_alone_func(Ri_avg, df_speciesMetab_cluster.copy())\n",
    "# RMSE_sens_complete_full = np.zeros((num_passages - 1, 2))\n",
    "sens_obj_all_prod, RMSE_obj_all_prod = \\\n",
    "    blindly_pred_abun_growth([p_vec_new_tmp[count_p]], df_speciesMetab_tmp, \\\n",
    "                             df_speciesAbun_inoc, df_speciesAbun_mdl, \\\n",
    "                             df_speciesAbun_prev_mdl, \\\n",
    "                             df_speciesAbun_ratio_mdl, \\\n",
    "                             Ri_fit, \"dummy\", \"dummy\", \\\n",
    "                             \"dummy\", num_passages=6, num_iter=100, \\\n",
    "                             thresh_zero=1e-8, Ri_ss=False, plot_=False, \\\n",
    "                             save_data_obj=False, \\\n",
    "                             return_sensitivity_ana=True, \\\n",
    "                             get_prod=True, B_alone=B_alone_iter[num_iter - 2], \\\n",
    "                             df_speciesMetab_prod=df_speciesMetab_prod_tmp, \\\n",
    "                             prod_use_prev=False, use_dilution=True, dilution_factor=15000, \\\n",
    "                             use_avg_for_prod=False)\n",
    "for pass_ in range(num_passages):\n",
    "    RMSE_mat_full[pass_, 0] = RMSE_obj_all_prod[pass_][\"abundance\"]\n",
    "    RMSE_mat_full[pass_, 1] = RMSE_obj_all_prod[pass_][\"growth_ratio\"]"
   ]
  },
  {
   "cell_type": "code",
   "execution_count": 60,
   "id": "537a390c",
   "metadata": {},
   "outputs": [
    {
     "data": {
      "text/plain": [
       "array([[1.40516909, 1.38135014],\n",
       "       [1.35207739, 0.70517929],\n",
       "       [1.64439705, 1.33448922],\n",
       "       [1.89606444, 1.58487873],\n",
       "       [2.05201115, 1.35010878],\n",
       "       [2.18040811, 1.40680623]])"
      ]
     },
     "execution_count": 60,
     "metadata": {},
     "output_type": "execute_result"
    }
   ],
   "source": [
    "RMSE_mat_full"
   ]
  },
  {
   "cell_type": "code",
   "execution_count": 98,
   "id": "eea09c1e",
   "metadata": {},
   "outputs": [],
   "source": [
    "pass_keep = remove_passages(pass_rm_list=[0, 1, 3, 4, 5])\n",
    "abun_avg_pass_3 = np.array(df_speciesAbun_mdl.iloc[:, pass_keep])\n",
    "abun_avg_pass_3 = np.mean(np.log(abun_avg_pass_3), axis=1)"
   ]
  },
  {
   "cell_type": "code",
   "execution_count": 115,
   "id": "72082444",
   "metadata": {},
   "outputs": [
    {
     "name": "stdout",
     "output_type": "stream",
     "text": [
      "PearsonRResult(statistic=0.8214750510493737, pvalue=1.619435485786851e-16)\n",
      "1.5641488629054474\n"
     ]
    },
    {
     "data": {
      "image/png": "[encoded data removed]",
      "text/plain": [
       "<Figure size 640x480 with 1 Axes>"
      ]
     },
     "metadata": {},
     "output_type": "display_data"
    }
   ],
   "source": [
    "x = np.log10(np.exp(abun_avg_pass_3))\n",
    "\n",
    "id_rep_keep = np.arange(len(species_names)) * 3\n",
    "y = np.log10(sens_obj_all_prod[2]['df_speciesAbun_next_pred'].copy())[id_rep_keep]\n",
    "y[y <= -8] = -8\n",
    "plt_ = sns.scatterplot(x=x, y=y)\n",
    "plt.plot([-8, 0], [-8, 0], c=\"black\")\n",
    "\n",
    "print(scipy.stats.pearsonr(x, y))\n",
    "\n",
    "id_ = np.where(x >= -10)\n",
    "print(np.sqrt(np.mean(np.power(x[id_] - y[id_], 2))))"
   ]
  },
  {
   "cell_type": "code",
   "execution_count": 119,
   "id": "8cb58a49",
   "metadata": {},
   "outputs": [
    {
     "data": {
      "image/png": "[encoded data removed]",
      "text/plain": [
       "<Figure size 640x480 with 1 Axes>"
      ]
     },
     "metadata": {},
     "output_type": "display_data"
    }
   ],
   "source": [
    "dist_to_equal = x - y\n",
    "plt_ = sns.histplot(dist_to_equal)"
   ]
  },
  {
   "cell_type": "code",
   "execution_count": 72,
   "id": "1f168a9f",
   "metadata": {},
   "outputs": [],
   "source": [
    "def normalize_columns(df_):\n",
    "    for col_ in df_.columns.values:\n",
    "        df_[col_] /= np.sum(df_[col_].values)\n",
    "    return df_"
   ]
  },
  {
   "cell_type": "code",
   "execution_count": 73,
   "id": "c796e297",
   "metadata": {},
   "outputs": [
    {
     "data": {
      "text/plain": [
       "array(['Clostridium-scindens-ATCC-35704'], dtype=object)"
      ]
     },
     "execution_count": 73,
     "metadata": {},
     "output_type": "execute_result"
    }
   ],
   "source": [
    "species_names[31]"
   ]
  },
  {
   "cell_type": "code",
   "execution_count": 120,
   "id": "b5f51337",
   "metadata": {},
   "outputs": [
    {
     "name": "stdout",
     "output_type": "stream",
     "text": [
      "[['Clostridium-scindens-ATCC-35704']]\n"
     ]
    }
   ],
   "source": [
    "s_ = np.array([32])\n",
    "print(species_names[s_])\n",
    "id_strains_sensitive = set(list(np.arange(num_species))) - \\\n",
    "    set(list(s_))\n",
    "id_strains_sensitive = np.array(list(id_strains_sensitive))\n",
    "df_speciesAbun_inoc_tmp = df_speciesAbun_inoc.copy()\n",
    "df_speciesAbun_inoc_tmp.iloc[s_, :] = 1e-8\n",
    "df_speciesAbun_inoc_tmp = normalize_columns(df_speciesAbun_inoc_tmp.copy())\n",
    "df_speciesAbun_inoc_tmp.iloc[s_, :] = 1e-8\n",
    "\n",
    "df_speciesAbun_tmp = df_speciesAbun_mdl.copy()\n",
    "df_speciesAbun_tmp.iloc[s_, :] = 1e-8\n",
    "df_speciesAbun_tmp = normalize_columns(df_speciesAbun_tmp.copy())\n",
    "df_speciesAbun_tmp.iloc[s_, :] = 1e-8\n",
    "\n",
    "df_speciesAbun_prev_tmp = df_speciesAbun_prev_mdl.copy()\n",
    "df_speciesAbun_prev_tmp.iloc[s_, :] = 1e-8\n",
    "df_speciesAbun_prev_tmp = normalize_columns(df_speciesAbun_prev_tmp.copy())\n",
    "df_speciesAbun_prev_tmp.iloc[s_, :] = 1e-8\n",
    "\n",
    "df_speciesAbun_ratio_tmp = df_speciesAbun_ratio_mdl.copy()\n",
    "df_speciesAbun_ratio_tmp.iloc[s_, :] = 1\n",
    "\n",
    "# id_metabs_keep = metabs_to_remove_knockdown_species(df_speciesMetab_cluster, [s_])\n",
    "id_metabs_keep = np.arange(df_speciesMetab_cluster.shape[1])\n",
    "Ri_avg = Ri_noMicrocosm_dynamicAll_fit_joint[count_p].copy()\n",
    "Ri_avg = Ri_avg[id_metabs_keep]\n",
    "Ri_fit = {0: Ri_avg}\n",
    "\n",
    "num_metabs_clust = df_speciesMetab_cluster.shape[1] - 1\n",
    "df_speciesMetab_tmp = df_speciesMetab_cluster.copy()\n",
    "df_speciesMetab_tmp = df_speciesMetab_tmp.iloc[:, id_metabs_keep]\n",
    "df_speciesMetab_prod_tmp = df_speciesMetab_prod_cluster.copy()\n",
    "df_speciesMetab_prod_tmp = df_speciesMetab_prod_tmp.iloc[:, id_metabs_keep]\n",
    "\n",
    "# RMSE_sens_complete_full = np.zeros((num_passages - 1, 2))\n",
    "sens_obj_knock, RMSE_obj_knock = \\\n",
    "    blindly_pred_abun_growth([p_vec_new_tmp[count_p]], df_speciesMetab_tmp, \\\n",
    "                             df_speciesAbun_inoc_tmp, df_speciesAbun_tmp, \\\n",
    "                             df_speciesAbun_prev_tmp, \\\n",
    "                             df_speciesAbun_ratio_tmp, \\\n",
    "                             Ri_fit, \"dummy\", \"dummy\", \\\n",
    "                             \"dummy\", num_passages=6, num_iter=100, \\\n",
    "                             thresh_zero=1e-8, Ri_ss=False, plot_=False, \\\n",
    "                             save_data_obj=False, \\\n",
    "                             return_sensitivity_ana=True, \\\n",
    "                             get_prod=True, B_alone=B_alone_iter[num_iter - 2], \\\n",
    "                             df_speciesMetab_prod=df_speciesMetab_prod_tmp, \\\n",
    "                             prod_use_prev=False, num_passages_run=3, \\\n",
    "                             use_dilution=True, \\\n",
    "                             dilution_factor=15000, \\\n",
    "                             id_species_update=id_strains_sensitive, \\\n",
    "                             use_avg_for_prod=False)\n",
    "y = sens_obj_knock[2]['df_speciesAbun_next_pred'].copy()\n",
    "x = sens_obj_all_prod[2]['df_speciesAbun_next_pred'].copy()"
   ]
  },
  {
   "cell_type": "code",
   "execution_count": 122,
   "id": "ca1edb27",
   "metadata": {},
   "outputs": [
    {
     "name": "stdout",
     "output_type": "stream",
     "text": [
      "[0.0003391]\n",
      "[1.12621579e-08]\n",
      "[0.50017365]\n"
     ]
    }
   ],
   "source": [
    "id_rep_keep = np.arange(len(species_names)) * 3\n",
    "x_mean = x[id_rep_keep]\n",
    "y_mean = y[id_rep_keep]\n",
    "print(x_mean[s_])\n",
    "print(y_mean[s_])\n",
    "print(dist_to_equal[s_])"
   ]
  },
  {
   "cell_type": "code",
   "execution_count": 114,
   "id": "ca4d3203",
   "metadata": {},
   "outputs": [
    {
     "name": "stdout",
     "output_type": "stream",
     "text": [
      "[ 6 31]\n",
      "[-0.60513779]\n"
     ]
    }
   ],
   "source": [
    "id_find = np.where(np.abs(np.log10(x_mean) - np.log10(y_mean)) >= 1)[0]\n",
    "print(id_find)\n",
    "print((dist_to_equal[s_] - np.mean(dist_to_equal)) / np.std(dist_to_equal))"
   ]
  },
  {
   "cell_type": "code",
   "execution_count": 118,
   "id": "4303f62f",
   "metadata": {},
   "outputs": [
    {
     "name": "stdout",
     "output_type": "stream",
     "text": [
      "[['Clostridium-scindens-ATCC-35704']]\n",
      "[0.0003391]\n",
      "[1.12621579e-08]\n",
      "[0.00107275]\n"
     ]
    }
   ],
   "source": [
    "print(species_names[s_])\n",
    "print(x_mean[s_])\n",
    "print(y_mean[s_])\n",
    "print((np.exp(abun_avg_pass_3[s_])))"
   ]
  },
  {
   "cell_type": "code",
   "execution_count": 49,
   "id": "022226be",
   "metadata": {},
   "outputs": [
    {
     "data": {
      "text/plain": [
       "array([ 0,  1,  2,  3,  4,  5,  6,  7,  8,  9, 10, 11, 12, 13, 14, 15, 16,\n",
       "       17, 18, 19, 20, 21, 22, 23, 24, 25, 26, 27, 28, 29, 30, 31, 33, 34,\n",
       "       35, 36, 37, 38, 39, 40, 41, 42, 43, 44, 45, 46, 47, 48, 49, 50, 51,\n",
       "       52, 53, 54, 55, 56, 57, 58, 59, 60, 61, 62])"
      ]
     },
     "execution_count": 49,
     "metadata": {},
     "output_type": "execute_result"
    }
   ],
   "source": [
    "id_strains_sensitive"
   ]
  },
  {
   "cell_type": "code",
   "execution_count": 57,
   "id": "59f21602",
   "metadata": {},
   "outputs": [
    {
     "data": {
      "text/plain": [
       "1.0000000000000002"
      ]
     },
     "execution_count": 57,
     "metadata": {},
     "output_type": "execute_result"
    }
   ],
   "source": [
    "np.sum(x_mean)"
   ]
  }
 ],
 "metadata": {
  "kernelspec": {
   "display_name": "Python [conda env:pyg_env] *",
   "language": "python",
   "name": "conda-env-pyg_env-py"
  },
  "language_info": {
   "codemirror_mode": {
    "name": "ipython",
    "version": 3
   },
   "file_extension": ".py",
   "mimetype": "text/x-python",
   "name": "python",
   "nbconvert_exporter": "python",
   "pygments_lexer": "ipython3",
   "version": "3.9.16"
  }
 },
 "nbformat": 4,
 "nbformat_minor": 5
}
